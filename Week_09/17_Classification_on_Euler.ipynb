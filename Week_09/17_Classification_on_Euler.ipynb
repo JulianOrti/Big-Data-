{
  "cells": [
    {
      "cell_type": "markdown",
      "metadata": {
        "id": "view-in-github",
        "colab_type": "text"
      },
      "source": [
        "<a href=\"https://colab.research.google.com/github/araldi/HS22_Big-Data-analysis-in-Biomedical-Research/blob/main/Week_09/17_Classification_on_Euler.ipynb\" target=\"_parent\"><img src=\"https://colab.research.google.com/assets/colab-badge.svg\" alt=\"Open In Colab\"/></a>"
      ]
    },
    {
      "cell_type": "markdown",
      "id": "86f9f296",
      "metadata": {
        "id": "86f9f296"
      },
      "source": [
        "# Use Euler to run python code\n",
        "\n",
        "This week, we will see how to run python script on Euler, which might be necessary when you are dealing with large datasets.\n",
        "\n",
        "For this exercise, we will use data of brain cancer gene expression.\n",
        "\n",
        "You can find the raw data on Kaggle: https://www.kaggle.com/datasets/brunogrisci/brain-cancer-gene-expression-cumida"
      ]
    },
    {
      "cell_type": "markdown",
      "id": "04ea0cf1",
      "metadata": {
        "id": "04ea0cf1"
      },
      "source": [
        "## Prepare your environment"
      ]
    },
    {
      "cell_type": "code",
      "execution_count": 1,
      "id": "19d26143",
      "metadata": {
        "id": "19d26143"
      },
      "outputs": [],
      "source": [
        "# Import libraries\n",
        "import pandas as pd\n",
        "import numpy as np\n",
        "import seaborn as sns\n",
        "from sklearn import preprocessing\n",
        "from sklearn.manifold import TSNE\n",
        "import matplotlib.pyplot as plt\n",
        "from sklearn.preprocessing import StandardScaler\n",
        "from sklearn.model_selection import GridSearchCV\n",
        "from sklearn.model_selection import train_test_split\n",
        "from sklearn import ensemble\n",
        "from sklearn import metrics\n",
        "from sklearn.metrics import plot_confusion_matrix\n",
        "from sklearn.metrics import confusion_matrix\n",
        "from sklearn.metrics import classification_report\n",
        "from sklearn.decomposition import PCA\n",
        "import time\n",
        "import random\n",
        "import json\n",
        "import os\n",
        "\n",
        "# Set random seed\n",
        "random.seed(2022)"
      ]
    },
    {
      "cell_type": "markdown",
      "source": [
        "## Download the data"
      ],
      "metadata": {
        "id": "D4XZwJD5IgBd"
      },
      "id": "D4XZwJD5IgBd"
    },
    {
      "cell_type": "code",
      "source": [
        "from google.colab import drive\n",
        "\n",
        "drive.mount(\"/content/gdrive\")"
      ],
      "metadata": {
        "colab": {
          "base_uri": "https://localhost:8080/"
        },
        "id": "JAzHayjfH2tn",
        "outputId": "48c70aa0-1887-4325-ea2c-947cc48c46bd"
      },
      "id": "JAzHayjfH2tn",
      "execution_count": 2,
      "outputs": [
        {
          "output_type": "stream",
          "name": "stdout",
          "text": [
            "Mounted at /content/gdrive\n"
          ]
        }
      ]
    },
    {
      "cell_type": "code",
      "source": [
        "ls /content/gdrive/MyDrive/HS22_Big_Data_Analysis_in_Biomedical_Research_exercises"
      ],
      "metadata": {
        "colab": {
          "base_uri": "https://localhost:8080/"
        },
        "id": "2JBeMO9PIEYv",
        "outputId": "2b02c1db-b43a-4176-dcdb-99c56487e2e4"
      },
      "id": "2JBeMO9PIEYv",
      "execution_count": 3,
      "outputs": [
        {
          "output_type": "stream",
          "name": "stdout",
          "text": [
            "'kaggle(1).json'   \u001b[0m\u001b[01;34mkaggleBrainTumor\u001b[0m/   kaggle.json   \u001b[01;34mkaggleTitanic\u001b[0m/\n"
          ]
        }
      ]
    },
    {
      "cell_type": "code",
      "source": [
        "cd /content/gdrive/MyDrive/HS22_Big_Data_Analysis_in_Biomedical_Research_exercises"
      ],
      "metadata": {
        "colab": {
          "base_uri": "https://localhost:8080/"
        },
        "id": "UgGMVncOIr7E",
        "outputId": "cfbb5f0f-eb67-47d9-c820-ebb4315973c4"
      },
      "id": "UgGMVncOIr7E",
      "execution_count": 4,
      "outputs": [
        {
          "output_type": "stream",
          "name": "stdout",
          "text": [
            "/content/gdrive/MyDrive/HS22_Big_Data_Analysis_in_Biomedical_Research_exercises\n"
          ]
        }
      ]
    },
    {
      "cell_type": "code",
      "source": [
        "envs = json.load(open(\"kaggle(1).json\", \"r\"))\n",
        "os.environ[\"KAGGLE_USERNAME\"] = envs['username']\n",
        "os.environ[\"KAGGLE_KEY\"] = envs['key']"
      ],
      "metadata": {
        "id": "9kcvViHKIOqs"
      },
      "id": "9kcvViHKIOqs",
      "execution_count": 5,
      "outputs": []
    },
    {
      "cell_type": "code",
      "source": [
        "!kaggle datasets list -s 'gene expression'"
      ],
      "metadata": {
        "colab": {
          "base_uri": "https://localhost:8080/"
        },
        "id": "eake5LrPIR4R",
        "outputId": "eff9d240-afe8-4fbd-f23f-d22ce59c0446"
      },
      "id": "eake5LrPIR4R",
      "execution_count": 6,
      "outputs": [
        {
          "output_type": "stream",
          "name": "stdout",
          "text": [
            "ref                                                              title                                               size  lastUpdated          downloadCount  voteCount  usabilityRating  \n",
            "---------------------------------------------------------------  -------------------------------------------------  -----  -------------------  -------------  ---------  ---------------  \n",
            "crawford/gene-expression                                         Gene expression dataset (Golub et al.)               1MB  2017-08-08 20:56:48          13202        248  0.8235294        \n",
            "raghadalharbi/breast-cancer-gene-expression-profiles-metabric    Breast Cancer Gene Expression Profiles (METABRIC)    3MB  2020-05-26 20:08:07           3556         72  0.9411765        \n",
            "brunogrisci/breast-cancer-gene-expression-cumida                 Breast cancer gene expression - CuMiDa              62MB  2020-02-01 10:51:48           1729         50  0.9705882        \n",
            "brunogrisci/brain-cancer-gene-expression-cumida                  Brain cancer gene expression - CuMiDa               53MB  2020-02-01 11:33:24           1264         26  0.9705882        \n",
            "andrewgao/alzheimers-gene-expression-profiles                    Alzheimer's Gene Expression Profiles                 2MB  2019-12-11 04:51:33            631         28  0.88235295       \n",
            "brunogrisci/leukemia-gene-expression-cumida                      Leukemia gene expression - CuMiDa                   11MB  2020-02-01 11:08:37            913         14  0.9705882        \n",
            "piotrgrabo/breastcancerproteomes                                 Breast Cancer Proteomes                              5MB  2019-11-14 05:15:12          12518        344  0.64705884       \n",
            "usharengaraju/crimeagainstwomen                                  sRNA sequencing - Brain (GSE75140)                  25MB  2020-04-05 16:03:10            384        172  0.875            \n",
            "lachmann12/human-liver-rnaseq-gene-expression-903-samples        Human liver RNA-Seq gene expression (903 samples)   19MB  2019-10-23 15:14:40            289          9  0.88235295       \n",
            "usharengaraju/electedindianwomeninpanchayats                     Raw mouse mammary RNA-Seq data (fastq)               1MB  2020-04-05 19:00:22            286        142  1.0              \n",
            "costalaether/yeast-transcriptomics                               Transcriptomics in yeast                             5MB  2017-01-24 11:13:04           1067         64  0.8235294        \n",
            "alexandervc/genes-expressions-datasets-collection                Genes Expressions Datasets Collection               29MB  2020-10-23 12:23:59            139          7  0.47058824       \n",
            "saurabhshahane/gene-data                                         Largest Gene Expression Data on Kaggle               1GB  2021-02-15 16:57:43            185          6  0.8125           \n",
            "amandam1/colorectal-cancer-patients                              Real Colorectal Cancer Datasets                    703KB  2021-08-28 16:16:49            940         31  1.0              \n",
            "aayush9753/singlecell-rnaseq-data-from-mouse-brain               Single-cell RNASeq data from Mouse Brain            72MB  2021-09-12 00:52:17            160         36  0.5882353        \n",
            "thomaskonstantin/cpg-values-of-smoking-and-non-smoking-patients   CpG Values of Smoking and Non Smoking Patients     68KB  2021-05-30 13:24:48            674         37  1.0              \n",
            "kmader/circadian-rhythm-in-the-brain                             Circadian Rhythm in the Brain                        1GB  2017-03-21 10:52:20            883         62  0.64705884       \n",
            "usharengaraju/indian-women-rehabilitation                        sRNA sequencing - Pancreas (GSE84133)               63MB  2020-04-05 16:29:01            182        148  0.875            \n",
            "saurabhshahane/gene-expression-profiles-of-breast-cancer         Gene Expression Profiles of Breast Cancer          107MB  2022-03-14 18:24:48             50          9  0.75             \n",
            "samdemharter/brca-multiomics-tcga                                BRCA Multi-Omics (TCGA)                              7MB  2022-02-15 14:09:08            486         20  0.64705884       \n"
          ]
        }
      ]
    },
    {
      "cell_type": "code",
      "source": [
        "!mkdir kaggleBrainTumor"
      ],
      "metadata": {
        "colab": {
          "base_uri": "https://localhost:8080/"
        },
        "id": "-FMNWV53ITD2",
        "outputId": "5f85c72b-4d9b-4752-a79f-d1b9bc6d7d5e"
      },
      "id": "-FMNWV53ITD2",
      "execution_count": 7,
      "outputs": [
        {
          "output_type": "stream",
          "name": "stdout",
          "text": [
            "mkdir: cannot create directory ‘kaggleBrainTumor’: File exists\n"
          ]
        }
      ]
    },
    {
      "cell_type": "code",
      "source": [
        "cd kaggleBrainTumor"
      ],
      "metadata": {
        "colab": {
          "base_uri": "https://localhost:8080/"
        },
        "id": "IoU8liNGJTOk",
        "outputId": "1aa66909-85ed-4f84-97b1-95f3450c35d3"
      },
      "id": "IoU8liNGJTOk",
      "execution_count": 8,
      "outputs": [
        {
          "output_type": "stream",
          "name": "stdout",
          "text": [
            "/content/gdrive/MyDrive/HS22_Big_Data_Analysis_in_Biomedical_Research_exercises/kaggleBrainTumor\n"
          ]
        }
      ]
    },
    {
      "cell_type": "code",
      "source": [
        "# download the titanic data into the directory you created for it\n",
        "!kaggle datasets download -d brunogrisci/brain-cancer-gene-expression-cumida"
      ],
      "metadata": {
        "colab": {
          "base_uri": "https://localhost:8080/"
        },
        "id": "qlwZEgDjIbKE",
        "outputId": "c9d55473-dd7b-4aec-895f-c9f7a106da39"
      },
      "id": "qlwZEgDjIbKE",
      "execution_count": 9,
      "outputs": [
        {
          "output_type": "stream",
          "name": "stdout",
          "text": [
            "brain-cancer-gene-expression-cumida.zip: Skipping, found more recently modified local copy (use --force to force download)\n"
          ]
        }
      ]
    },
    {
      "cell_type": "code",
      "source": [
        "ls"
      ],
      "metadata": {
        "colab": {
          "base_uri": "https://localhost:8080/"
        },
        "id": "rklwQ42gKo40",
        "outputId": "54d9b9d4-8090-4fd3-fcfc-424898dace2c"
      },
      "id": "rklwQ42gKo40",
      "execution_count": 10,
      "outputs": [
        {
          "output_type": "stream",
          "name": "stdout",
          "text": [
            "brain-cancer-gene-expression-cumida.zip\n"
          ]
        }
      ]
    },
    {
      "cell_type": "code",
      "source": [
        "!unzip brain-cancer-gene-expression-cumida.zip"
      ],
      "metadata": {
        "colab": {
          "base_uri": "https://localhost:8080/"
        },
        "id": "ksSiLmwJIea8",
        "outputId": "1e963186-d98a-4601-b925-7f8259c3dedb"
      },
      "id": "ksSiLmwJIea8",
      "execution_count": 11,
      "outputs": [
        {
          "output_type": "stream",
          "name": "stdout",
          "text": [
            "Archive:  brain-cancer-gene-expression-cumida.zip\n",
            "  inflating: Brain_GSE50161.csv      \n"
          ]
        }
      ]
    },
    {
      "cell_type": "code",
      "source": [
        "ls"
      ],
      "metadata": {
        "colab": {
          "base_uri": "https://localhost:8080/"
        },
        "id": "BTr3iy13Ksuo",
        "outputId": "75e92ef9-fdd2-4760-c74b-babad37db9c0"
      },
      "id": "BTr3iy13Ksuo",
      "execution_count": 12,
      "outputs": [
        {
          "output_type": "stream",
          "name": "stdout",
          "text": [
            "brain-cancer-gene-expression-cumida.zip  Brain_GSE50161.csv\n"
          ]
        }
      ]
    },
    {
      "cell_type": "code",
      "source": [
        "mv Brain_GSE50161.csv /content/gdrive/MyDrive/HS22_Big_Data_Analysis_in_Biomedical_Research_376-1723-00L/week_09/Euler-Lucie/data/"
      ],
      "metadata": {
        "id": "vzQCDcy_Kuo0"
      },
      "id": "vzQCDcy_Kuo0",
      "execution_count": 13,
      "outputs": []
    },
    {
      "cell_type": "code",
      "source": [
        "cd /content/gdrive/MyDrive/HS22_Big_Data_Analysis_in_Biomedical_Research_376-1723-00L/week_09/Euler-Lucie/"
      ],
      "metadata": {
        "colab": {
          "base_uri": "https://localhost:8080/"
        },
        "id": "CGQ1Ttw2K23w",
        "outputId": "1e5e6f6e-a57d-4c75-c5e9-2d4475306fe1"
      },
      "id": "CGQ1Ttw2K23w",
      "execution_count": 14,
      "outputs": [
        {
          "output_type": "stream",
          "name": "stdout",
          "text": [
            "/content/gdrive/MyDrive/HS22_Big_Data_Analysis_in_Biomedical_Research_376-1723-00L/week_09/Euler-Lucie\n"
          ]
        }
      ]
    },
    {
      "cell_type": "code",
      "source": [
        "ls"
      ],
      "metadata": {
        "colab": {
          "base_uri": "https://localhost:8080/"
        },
        "id": "Wr88a4OaLhPm",
        "outputId": "de81a210-dbbb-40f7-a1a7-3c03dc2a311c"
      },
      "id": "Wr88a4OaLhPm",
      "execution_count": 15,
      "outputs": [
        {
          "output_type": "stream",
          "name": "stdout",
          "text": [
            "\u001b[0m\u001b[01;34mcode\u001b[0m/  \u001b[01;34mdata\u001b[0m/  Euler-practical_example_Lucie.gslides  \u001b[01;34moutput\u001b[0m/\n"
          ]
        }
      ]
    },
    {
      "cell_type": "code",
      "source": [
        "cd code"
      ],
      "metadata": {
        "colab": {
          "base_uri": "https://localhost:8080/"
        },
        "id": "EKroeWCtLngU",
        "outputId": "30170bad-5e35-4ea2-f7f7-fe9c9fc2bc26"
      },
      "id": "EKroeWCtLngU",
      "execution_count": 16,
      "outputs": [
        {
          "output_type": "stream",
          "name": "stdout",
          "text": [
            "/content/gdrive/MyDrive/HS22_Big_Data_Analysis_in_Biomedical_Research_376-1723-00L/week_09/Euler-Lucie/code\n"
          ]
        }
      ]
    },
    {
      "cell_type": "code",
      "source": [
        "# Declare paths\n",
        "main_path = '../'\n",
        "data_path = main_path + 'data/'\n",
        "output_path = main_path + 'output/'"
      ],
      "metadata": {
        "id": "EP8hXhmmK0mi"
      },
      "id": "EP8hXhmmK0mi",
      "execution_count": 17,
      "outputs": []
    },
    {
      "cell_type": "markdown",
      "id": "89760b9a",
      "metadata": {
        "id": "89760b9a"
      },
      "source": [
        "## Load the data"
      ]
    },
    {
      "cell_type": "code",
      "execution_count": 18,
      "id": "cdd22102",
      "metadata": {
        "id": "cdd22102"
      },
      "outputs": [],
      "source": [
        "data = pd.read_csv(data_path + 'Brain_GSE50161.csv')"
      ]
    },
    {
      "cell_type": "code",
      "execution_count": 19,
      "id": "f4e2ee2b",
      "metadata": {
        "id": "f4e2ee2b",
        "outputId": "d6fe4eac-3541-455e-829b-7290681ac3ea",
        "colab": {
          "base_uri": "https://localhost:8080/"
        }
      },
      "outputs": [
        {
          "output_type": "stream",
          "name": "stdout",
          "text": [
            "   samples        type  1007_s_at   1053_at     117_at    121_at  1255_g_at  \\\n",
            "0      834  ependymoma  12.498150  7.604868   6.880934  9.027128   4.176175   \n",
            "1      835  ependymoma  13.067436  7.998090   7.209076  9.723322   4.826126   \n",
            "2      836  ependymoma  13.068179  8.573674   8.647684  9.613002   4.396581   \n",
            "3      837  ependymoma  12.456040  9.098977   6.628784  8.517677   4.154847   \n",
            "4      838  ependymoma  12.699958  8.800721  11.556188  9.166309   4.165891   \n",
            "\n",
            "    1294_at   1316_at   1320_at  ...  AFFX-r2-Ec-bioD-3_at  \\\n",
            "0  7.224920  6.085942  6.835999  ...              9.979005   \n",
            "1  7.539381  6.250962  8.012549  ...             11.924749   \n",
            "2  7.813101  6.007746  7.178156  ...             12.154405   \n",
            "3  8.361843  6.596064  6.347285  ...             11.969072   \n",
            "4  7.923826  6.212754  6.866387  ...             11.411701   \n",
            "\n",
            "   AFFX-r2-Ec-bioD-5_at  AFFX-r2-P1-cre-3_at  AFFX-r2-P1-cre-5_at  \\\n",
            "0              9.926470            12.719785            12.777792   \n",
            "1             11.215930            13.605662            13.401342   \n",
            "2             11.532460            13.764593            13.477800   \n",
            "3             11.288801            13.600828            13.379029   \n",
            "4             11.169317            13.751442            13.803646   \n",
            "\n",
            "   AFFX-ThrX-3_at  AFFX-ThrX-5_at  AFFX-ThrX-M_at  AFFX-TrpnX-3_at  \\\n",
            "0        5.403657        4.870548        4.047380         3.721936   \n",
            "1        5.224555        4.895315        3.786437         3.564481   \n",
            "2        5.303565        5.052184        4.005343         3.595382   \n",
            "3        4.953429        4.708371        3.892318         3.759429   \n",
            "4        4.892677        4.773806        3.796856         3.577544   \n",
            "\n",
            "   AFFX-TrpnX-5_at  AFFX-TrpnX-M_at  \n",
            "0         4.516434         4.749940  \n",
            "1         4.430891         4.491416  \n",
            "2         4.563494         4.668827  \n",
            "3         4.748381         4.521275  \n",
            "4         4.504385         4.541450  \n",
            "\n",
            "[5 rows x 54677 columns]\n"
          ]
        }
      ],
      "source": [
        "print(data.head())"
      ]
    },
    {
      "cell_type": "code",
      "execution_count": 20,
      "id": "512332a1",
      "metadata": {
        "id": "512332a1",
        "outputId": "6e75cac1-1aff-40d9-fd38-c1b55926d3e4",
        "colab": {
          "base_uri": "https://localhost:8080/"
        }
      },
      "outputs": [
        {
          "output_type": "stream",
          "name": "stdout",
          "text": [
            "This dataset is of shape (130, 54677)\n"
          ]
        }
      ],
      "source": [
        "print('This dataset is of shape', data.shape)"
      ]
    },
    {
      "cell_type": "code",
      "execution_count": 21,
      "id": "f886ec4f",
      "metadata": {
        "id": "f886ec4f",
        "outputId": "c515ffb3-4dce-41ad-9b90-a11803305349",
        "colab": {
          "base_uri": "https://localhost:8080/"
        }
      },
      "outputs": [
        {
          "output_type": "stream",
          "name": "stdout",
          "text": [
            "There are 130 unique samples in this dataset.\n"
          ]
        }
      ],
      "source": [
        "print('There are', data['samples'].nunique(), 'unique samples in this dataset.')"
      ]
    },
    {
      "cell_type": "code",
      "execution_count": 22,
      "id": "c98ad887",
      "metadata": {
        "id": "c98ad887",
        "outputId": "5525b929-5926-417c-db6f-dc7904452e4b",
        "colab": {
          "base_uri": "https://localhost:8080/"
        }
      },
      "outputs": [
        {
          "output_type": "stream",
          "name": "stdout",
          "text": [
            "There are 5 unique phenotypes/labels in this dataset.\n",
            "The phenotypes present are ['ependymoma' 'glioblastoma' 'medulloblastoma' 'normal'\n",
            " 'pilocytic_astrocytoma']\n"
          ]
        }
      ],
      "source": [
        "print('There are', data['type'].nunique(), 'unique phenotypes/labels in this dataset.')\n",
        "print('The phenotypes present are', data['type'].unique())"
      ]
    },
    {
      "cell_type": "markdown",
      "id": "0639e479",
      "metadata": {
        "id": "0639e479"
      },
      "source": [
        "## Aim of the analysis\n",
        "\n",
        "We want to determine whether the 5 phenotypes can be predicted based on gene expression data.\n",
        "\n",
        "Because this dataset includes the expression of 54'677 different genes, we will first write the code on Jupyter using a subset, before running the entire analysis on Euler."
      ]
    },
    {
      "cell_type": "markdown",
      "id": "7d1129be",
      "metadata": {
        "id": "7d1129be"
      },
      "source": [
        "## Subset the data"
      ]
    },
    {
      "cell_type": "code",
      "execution_count": 23,
      "id": "d7060132",
      "metadata": {
        "id": "d7060132",
        "outputId": "b9ba8e57-d4f8-475d-aa5c-7b4be831423d",
        "colab": {
          "base_uri": "https://localhost:8080/"
        }
      },
      "outputs": [
        {
          "output_type": "stream",
          "name": "stdout",
          "text": [
            "The dataset used for the analysis is of size (130, 102)\n"
          ]
        }
      ],
      "source": [
        "# select for the first 103 columns, note that this line will be commented out on Euler\n",
        "data_analysis = data.iloc[:, :102]\n",
        "\n",
        "# in order to use the same variable name in Jupyter and Euler, you can create a copy of data \n",
        "# note that this line will be uncommented on Euler\n",
        "# data_analysis = data \n",
        "\n",
        "print('The dataset used for the analysis is of size', data_analysis.shape)"
      ]
    },
    {
      "cell_type": "code",
      "execution_count": 24,
      "id": "2a46f031",
      "metadata": {
        "id": "2a46f031",
        "outputId": "9461a956-862c-4dbe-9fcd-cb40662e6743",
        "colab": {
          "base_uri": "https://localhost:8080/"
        }
      },
      "outputs": [
        {
          "output_type": "stream",
          "name": "stdout",
          "text": [
            "Number of NAs in the dataset\n",
            "For-loop done\n"
          ]
        }
      ],
      "source": [
        "print('Number of NAs in the dataset')\n",
        "\n",
        "# We will only print the columns in which data is missing\n",
        "for col in data_analysis.columns:\n",
        "  if data_analysis[col].isna().sum() != 0:\n",
        "    print('There are', data_analysis[col].isna().sum(), 'in column', col)\n",
        "\n",
        "print('For-loop done') # adding this line allows you to have an output even if no column has missing data"
      ]
    },
    {
      "cell_type": "code",
      "execution_count": 25,
      "id": "487b9fb8",
      "metadata": {
        "id": "487b9fb8"
      },
      "outputs": [],
      "source": [
        "# Scale the data, excluding the first 2 columns (categorical)\n",
        "\n",
        "cols = data_analysis.columns[~data_analysis.columns.isin(['samples', 'type'])]\n",
        "data_analysis[cols] = preprocessing.scale(data_analysis[cols], axis=0)"
      ]
    },
    {
      "cell_type": "markdown",
      "id": "964b1353",
      "metadata": {
        "id": "964b1353"
      },
      "source": [
        "## Dimensionality reduction"
      ]
    },
    {
      "cell_type": "markdown",
      "id": "82e345b7",
      "metadata": {
        "id": "82e345b7"
      },
      "source": [
        "### t-SNE\n",
        "\n",
        "For more information on the t-SNE implementation in Python, see the [sklearn documentation for t-SNE](https://scikit-learn.org/stable/modules/generated/sklearn.manifold.TSNE.html)"
      ]
    },
    {
      "cell_type": "code",
      "execution_count": 26,
      "id": "b147951d",
      "metadata": {
        "id": "b147951d",
        "outputId": "eeffe20b-beb3-409a-f811-b15a53e35a79",
        "colab": {
          "base_uri": "https://localhost:8080/",
          "height": 0
        }
      },
      "outputs": [
        {
          "output_type": "stream",
          "name": "stderr",
          "text": [
            "/usr/local/lib/python3.7/dist-packages/sklearn/manifold/_t_sne.py:783: FutureWarning: The default initialization in TSNE will change from 'random' to 'pca' in 1.2.\n",
            "  FutureWarning,\n",
            "/usr/local/lib/python3.7/dist-packages/sklearn/manifold/_t_sne.py:793: FutureWarning: The default learning rate in TSNE will change from 200.0 to 'auto' in 1.2.\n",
            "  FutureWarning,\n"
          ]
        },
        {
          "output_type": "display_data",
          "data": {
            "text/plain": [
              "<Figure size 720x720 with 1 Axes>"
            ],
            "image/png": "[encoded data removed]"
          },
          "metadata": {
            "needs_background": "light"
          }
        },
        {
          "output_type": "display_data",
          "data": {
            "text/plain": [
              "<Figure size 432x288 with 0 Axes>"
            ]
          },
          "metadata": {}
        }
      ],
      "source": [
        "twodproj = TSNE(n_components=2).fit_transform(data_analysis[cols])\n",
        "\n",
        "plt.figure(figsize  = (10,10))\n",
        "\n",
        "patient_phenotypes = data_analysis['type']\n",
        "unique_labels = data_analysis['type'].unique()\n",
        "\n",
        "for i in unique_labels:\n",
        "    plt.scatter(twodproj[patient_phenotypes == i, 0], twodproj[patient_phenotypes == i, 1], label=i)\n",
        "plt.title('t-SNE dimensionality reduction')\n",
        "plt.legend()\n",
        "plt.show()\n",
        "\n",
        "# Don't forget to save your plot, especially when you work on Euler\n",
        "plt.savefig(output_path + 'tSNE_plot.png')"
      ]
    },
    {
      "cell_type": "markdown",
      "id": "d2298a3b",
      "metadata": {
        "id": "d2298a3b"
      },
      "source": [
        "## Class prediction"
      ]
    },
    {
      "cell_type": "code",
      "execution_count": 27,
      "id": "7f238d7d",
      "metadata": {
        "id": "7f238d7d"
      },
      "outputs": [],
      "source": [
        "t0_gene = time.time()\n",
        "\n",
        "# X is a dataframe with all the features/variables that we want to use for the classification\n",
        "X = data_analysis[cols]\n",
        "# y is a list containing the label to classify\n",
        "y = data_analysis['type'].tolist()\n",
        "\n",
        "'''\n",
        "We first need to split out data into training and testing sets\n",
        "We will fit the model on the training set and test it on the testing set\n",
        "Note: we stratify the splitting according to the labels \n",
        "such that both the train and testing sets have a similar distribution\n",
        "'''\n",
        "\n",
        "X_train, X_test, y_train, y_test = train_test_split(X, y, test_size = 0.2, random_state = 2022, stratify = y)"
      ]
    },
    {
      "cell_type": "code",
      "execution_count": 28,
      "id": "eb5dd7b5",
      "metadata": {
        "id": "eb5dd7b5"
      },
      "outputs": [],
      "source": [
        "# Specify the model to use and the hyperparameters\n",
        "rf = ensemble.RandomForestClassifier(max_depth = 25, \n",
        "                                      criterion = \"gini\", \n",
        "                                      random_state = 2022)\n",
        "# Fit the train data\n",
        "rf = rf.fit(X_train, y_train)"
      ]
    },
    {
      "cell_type": "code",
      "execution_count": 29,
      "id": "9e3d34b6",
      "metadata": {
        "id": "9e3d34b6"
      },
      "outputs": [],
      "source": [
        "# Predict the labels in the test set based on the model learnt on the train set\n",
        "y_pred = rf.predict(X_test)"
      ]
    },
    {
      "cell_type": "code",
      "execution_count": 30,
      "id": "20e17e12",
      "metadata": {
        "id": "20e17e12",
        "outputId": "31f8e513-0b50-4598-b01b-985acf1d1a88",
        "colab": {
          "base_uri": "https://localhost:8080/"
        }
      },
      "outputs": [
        {
          "output_type": "execute_result",
          "data": {
            "text/plain": [
              "array([[9, 0, 0, 0, 0],\n",
              "       [1, 6, 0, 0, 0],\n",
              "       [0, 0, 4, 0, 0],\n",
              "       [0, 0, 0, 3, 0],\n",
              "       [0, 2, 0, 0, 1]])"
            ]
          },
          "metadata": {},
          "execution_count": 30
        }
      ],
      "source": [
        "confusion_matrix(y_test, y_pred)"
      ]
    },
    {
      "cell_type": "code",
      "execution_count": 31,
      "id": "df6fcf93",
      "metadata": {
        "id": "df6fcf93",
        "outputId": "c4a339f2-7dd4-490a-d355-39f8a00d5599",
        "colab": {
          "base_uri": "https://localhost:8080/",
          "height": 485
        }
      },
      "outputs": [
        {
          "output_type": "stream",
          "name": "stderr",
          "text": [
            "/usr/local/lib/python3.7/dist-packages/sklearn/utils/deprecation.py:87: FutureWarning: Function plot_confusion_matrix is deprecated; Function `plot_confusion_matrix` is deprecated in 1.0 and will be removed in 1.2. Use one of the class methods: ConfusionMatrixDisplay.from_predictions or ConfusionMatrixDisplay.from_estimator.\n",
            "  warnings.warn(msg, category=FutureWarning)\n"
          ]
        },
        {
          "output_type": "display_data",
          "data": {
            "text/plain": [
              "<Figure size 720x720 with 0 Axes>"
            ]
          },
          "metadata": {}
        },
        {
          "output_type": "display_data",
          "data": {
            "text/plain": [
              "<Figure size 432x288 with 2 Axes>"
            ],
            "image/png": "[encoded data removed]"
          },
          "metadata": {
            "needs_background": "light"
          }
        },
        {
          "output_type": "display_data",
          "data": {
            "text/plain": [
              "<Figure size 432x288 with 0 Axes>"
            ]
          },
          "metadata": {}
        }
      ],
      "source": [
        "# Visualise the prediction results in a confusion matrix\n",
        "\n",
        "plt.figure(figsize = (10,10))\n",
        "plot_confusion_matrix(rf, X_test, y_test, cmap = plt.cm.Blues)\n",
        "plt.title('Confusion matrix')\n",
        "plt.xticks(rotation=90)\n",
        "plt.show()\n",
        "\n",
        "# Don't forget to save your plot, especially when you work on Euler\n",
        "plt.savefig(output_path + 'confusion_plot.png')"
      ]
    },
    {
      "cell_type": "code",
      "execution_count": 32,
      "id": "8586e918",
      "metadata": {
        "id": "8586e918",
        "outputId": "f7675862-17ad-433b-a2ea-b72e4bc47e42",
        "colab": {
          "base_uri": "https://localhost:8080/"
        }
      },
      "outputs": [
        {
          "output_type": "stream",
          "name": "stdout",
          "text": [
            "It took 0.666 seconds to run the prediction using the gene expression data.\n"
          ]
        }
      ],
      "source": [
        "t1_gene = time.time()\n",
        "\n",
        "total_gene = t1_gene - t0_gene\n",
        "print('It took', round(total_gene, 3), 'seconds to run the prediction using the gene expression data.')"
      ]
    },
    {
      "cell_type": "code",
      "execution_count": 33,
      "id": "f3979932",
      "metadata": {
        "id": "f3979932",
        "outputId": "fe1e4ba4-d3bd-4501-ab21-1ddf0501b673",
        "colab": {
          "base_uri": "https://localhost:8080/"
        }
      },
      "outputs": [
        {
          "output_type": "stream",
          "name": "stdout",
          "text": [
            "                       precision    recall  f1-score   support\n",
            "\n",
            "           ependymoma       0.90      1.00      0.95         9\n",
            "         glioblastoma       0.75      0.86      0.80         7\n",
            "      medulloblastoma       1.00      1.00      1.00         4\n",
            "               normal       1.00      1.00      1.00         3\n",
            "pilocytic_astrocytoma       1.00      0.33      0.50         3\n",
            "\n",
            "             accuracy                           0.88        26\n",
            "            macro avg       0.93      0.84      0.85        26\n",
            "         weighted avg       0.90      0.88      0.87        26\n",
            "\n"
          ]
        }
      ],
      "source": [
        "# Output the classification report including multiple metrics\n",
        "\n",
        "report = classification_report(y_test, y_pred, output_dict = True)\n",
        "print(classification_report(y_test, y_pred))\n",
        "\n",
        "# You can also save this report as a .csv file\n",
        "report_dataframe = pd.DataFrame.from_dict(report)\n",
        "report_dataframe.to_csv(output_path + 'class-prediction_report.csv')"
      ]
    },
    {
      "cell_type": "markdown",
      "source": [
        "### Class prediction including GridSearchCV\n",
        "\n",
        "For more information about the implementation of grid search cross validation in python, you can refer to the corresponding sklearn page: [GridSearchCV](https://scikit-learn.org/stable/modules/generated/sklearn.model_selection.GridSearchCV.html)"
      ],
      "metadata": {
        "id": "HazJzdMbMr0B"
      },
      "id": "HazJzdMbMr0B"
    },
    {
      "cell_type": "code",
      "source": [
        "t0_gene_CV = time.time()\n",
        "\n",
        "# Declare the model to use, without specifying parameters (except from the seed here)\n",
        "rf = ensemble.RandomForestClassifier(random_state = 2022)\n",
        "\n",
        "# Decide the hyperparameters to be tested\n",
        "min_samples_split = [2, 3, 4]                                      \n",
        "max_depth = [5, 10, 25, 50, None]\n",
        "criterion = ['gini','entropy']\n",
        "\n",
        "# Combine all parameters in a dictionary\n",
        "parameters_rf = dict(min_samples_split = min_samples_split,\n",
        "                     criterion = criterion,\n",
        "                     max_depth = max_depth)\n",
        "print(parameters_rf)"
      ],
      "metadata": {
        "colab": {
          "base_uri": "https://localhost:8080/"
        },
        "id": "5OF_DmwNMq7d",
        "outputId": "d152daf6-6302-4150-f0c4-c2d5c773af0b"
      },
      "id": "5OF_DmwNMq7d",
      "execution_count": 34,
      "outputs": [
        {
          "output_type": "stream",
          "name": "stdout",
          "text": [
            "{'min_samples_split': [2, 3, 4], 'criterion': ['gini', 'entropy'], 'max_depth': [5, 10, 25, 50, None]}\n"
          ]
        }
      ]
    },
    {
      "cell_type": "code",
      "source": [
        "# Train random forest model with combinations of all hyperparameters above using GridSearchCV\n",
        "# GridSearchCV will find the hyperparameters that will give you the best predictions in cross validation according to the scoring method chosen\n",
        "gridrf = GridSearchCV(rf, parameters_rf, cv = 10, scoring = 'accuracy')\n",
        "gridrf.fit(X_train, y_train)\n",
        "print(gridrf.best_params_)\n",
        "t1_gene_CV = time.time()"
      ],
      "metadata": {
        "colab": {
          "base_uri": "https://localhost:8080/"
        },
        "id": "4Xx1GyBJNMQ5",
        "outputId": "d9b5bcb4-cdb1-415a-dc4d-23c52f8a6a50"
      },
      "id": "4Xx1GyBJNMQ5",
      "execution_count": 35,
      "outputs": [
        {
          "output_type": "stream",
          "name": "stdout",
          "text": [
            "{'criterion': 'entropy', 'max_depth': 5, 'min_samples_split': 4}\n"
          ]
        }
      ]
    },
    {
      "cell_type": "code",
      "source": [
        "# Predict the labels in the test set based on the model learnt on the train set\n",
        "y_pred_CV = gridrf.predict(X_test)\n",
        "\n",
        "# Visualise the prediction results in a confusion matrix\n",
        "\n",
        "plt.figure(figsize = (10,10))\n",
        "plot_confusion_matrix(gridrf, X_test, y_test, cmap = plt.cm.Blues)\n",
        "plt.title('Confusion matrix')\n",
        "plt.xticks(rotation = 90)\n",
        "plt.show()\n",
        "\n",
        "# Don't forget to save your plot, especially when you work on Euler\n",
        "plt.savefig(output_path + 'confusion_plot_CV.png')"
      ],
      "metadata": {
        "colab": {
          "base_uri": "https://localhost:8080/",
          "height": 485
        },
        "id": "3o-2uerjPMNu",
        "outputId": "ddc6c0c5-83db-4e68-fc5c-6499471798e9"
      },
      "id": "3o-2uerjPMNu",
      "execution_count": 36,
      "outputs": [
        {
          "output_type": "stream",
          "name": "stderr",
          "text": [
            "/usr/local/lib/python3.7/dist-packages/sklearn/utils/deprecation.py:87: FutureWarning: Function plot_confusion_matrix is deprecated; Function `plot_confusion_matrix` is deprecated in 1.0 and will be removed in 1.2. Use one of the class methods: ConfusionMatrixDisplay.from_predictions or ConfusionMatrixDisplay.from_estimator.\n",
            "  warnings.warn(msg, category=FutureWarning)\n"
          ]
        },
        {
          "output_type": "display_data",
          "data": {
            "text/plain": [
              "<Figure size 720x720 with 0 Axes>"
            ]
          },
          "metadata": {}
        },
        {
          "output_type": "display_data",
          "data": {
            "text/plain": [
              "<Figure size 432x288 with 2 Axes>"
            ],
            "image/png": "[encoded data removed]"
          },
          "metadata": {
            "needs_background": "light"
          }
        },
        {
          "output_type": "display_data",
          "data": {
            "text/plain": [
              "<Figure size 432x288 with 0 Axes>"
            ]
          },
          "metadata": {}
        }
      ]
    },
    {
      "cell_type": "code",
      "source": [
        "t1_gene_CV = time.time()\n",
        "\n",
        "total_gene_CV = t1_gene_CV - t0_gene_CV\n",
        "print('It took', round(total_gene_CV, 3), 'seconds to run the prediction using the gene expression data.')"
      ],
      "metadata": {
        "colab": {
          "base_uri": "https://localhost:8080/"
        },
        "id": "0v69sRSiOLx7",
        "outputId": "5ae5c4c3-b66c-4cad-ee32-7f4282ef6aef"
      },
      "id": "0v69sRSiOLx7",
      "execution_count": 37,
      "outputs": [
        {
          "output_type": "stream",
          "name": "stdout",
          "text": [
            "It took 60.12 seconds to run the prediction using the gene expression data.\n"
          ]
        }
      ]
    },
    {
      "cell_type": "code",
      "source": [
        "# Output the classification report including multiple metrics\n",
        "\n",
        "report_CV = classification_report(y_test, y_pred_CV, output_dict = True)\n",
        "print(classification_report(y_test, y_pred_CV))\n",
        "\n",
        "# You can also save this report as a .csv file\n",
        "report_dataframe_CV = pd.DataFrame.from_dict(report_CV)\n",
        "report_dataframe_CV.to_csv(output_path + 'class-prediction-CV_report.csv')"
      ],
      "metadata": {
        "colab": {
          "base_uri": "https://localhost:8080/"
        },
        "id": "2eQCq0UUO-i2",
        "outputId": "c3b4876f-1ac9-4260-cc21-efca8eaadc81"
      },
      "id": "2eQCq0UUO-i2",
      "execution_count": 38,
      "outputs": [
        {
          "output_type": "stream",
          "name": "stdout",
          "text": [
            "                       precision    recall  f1-score   support\n",
            "\n",
            "           ependymoma       0.90      1.00      0.95         9\n",
            "         glioblastoma       0.75      0.86      0.80         7\n",
            "      medulloblastoma       1.00      1.00      1.00         4\n",
            "               normal       1.00      1.00      1.00         3\n",
            "pilocytic_astrocytoma       1.00      0.33      0.50         3\n",
            "\n",
            "             accuracy                           0.88        26\n",
            "            macro avg       0.93      0.84      0.85        26\n",
            "         weighted avg       0.90      0.88      0.87        26\n",
            "\n"
          ]
        }
      ]
    },
    {
      "cell_type": "markdown",
      "id": "e1720f9b",
      "metadata": {
        "id": "e1720f9b"
      },
      "source": [
        "## Exercises\n",
        "\n",
        "It is now your turn to play around with this dataset, first using a subset and then the entire set of data on Euler.\n",
        "\n",
        "### Part a\n",
        "\n",
        "Run a principal component (PC) analysis (PCA).\n",
        " - Visualise the different types of tumor according to the first 2 PCs.\n",
        " - Do the group separate well? \n",
        " - How much of the variance is explained from those 2 PCs? (Hint: have a look at the output in [the PCA scikit-learn documentation](https://scikit-learn.org/stable/modules/generated/sklearn.decomposition.PCA.html))\n",
        " - How many components would you need to consider in order to capture 50% of the variance?\n",
        " \n",
        "### Part b\n",
        "\n",
        "We classified the different tumour types based on gene expression. This time, perform a similar classification but using the PCs instead of gene expression directly (choose the number of PCs that explain 50% of the variance). Don't forget that the data should be split in train and test sets, even to perform PCA. How is the model performing when using PCs compared to gene expression? How long does it take compared to the classification with the gene expression?"
      ]
    },
    {
      "cell_type": "markdown",
      "id": "dababb90",
      "metadata": {
        "id": "dababb90"
      },
      "source": [
        "### Part a"
      ]
    },
    {
      "cell_type": "markdown",
      "id": "15f53354",
      "metadata": {
        "id": "15f53354"
      },
      "source": [
        "### Part b"
      ]
    }
  ],
  "metadata": {
    "kernelspec": {
      "display_name": "Python 3 (ipykernel)",
      "language": "python",
      "name": "python3"
    },
    "language_info": {
      "codemirror_mode": {
        "name": "ipython",
        "version": 3
      },
      "file_extension": ".py",
      "mimetype": "text/x-python",
      "name": "python",
      "nbconvert_exporter": "python",
      "pygments_lexer": "ipython3",
      "version": "3.9.12"
    },
    "colab": {
      "provenance": [],
      "toc_visible": true,
      "collapsed_sections": [
        "89760b9a",
        "0639e479",
        "7d1129be",
        "964b1353",
        "82e345b7",
        "d2298a3b",
        "HazJzdMbMr0B"
      ],
      "include_colab_link": true
    }
  },
  "nbformat": 4,
  "nbformat_minor": 5
}