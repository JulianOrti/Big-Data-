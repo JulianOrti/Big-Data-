{
  "nbformat": 4,
  "nbformat_minor": 0,
  "metadata": {
    "colab": {
      "provenance": [],
      "authorship_tag": "ABX9TyMD9qhDw/MqCLFQMJtYOGs3",
      "include_colab_link": true
    },
    "kernelspec": {
      "name": "python3",
      "display_name": "Python 3"
    },
    "language_info": {
      "name": "python"
    }
  },
  "cells": [
    {
      "cell_type": "markdown",
      "metadata": {
        "id": "view-in-github",
        "colab_type": "text"
      },
      "source": [
        "<a href=\"https://colab.research.google.com/github/araldi/HS22_Big-Data-analysis-in-Biomedical-Research/blob/main/Week_09/15_Classification_part2.ipynb\" target=\"_parent\"><img src=\"https://colab.research.google.com/assets/colab-badge.svg\" alt=\"Open In Colab\"/></a>"
      ]
    },
    {
      "cell_type": "markdown",
      "metadata": {
        "id": "Q0Ut2VlzBoEL"
      },
      "source": [
        "# Predict breast cancer malignancy with supervised learning classification methods"
      ]
    },
    {
      "cell_type": "code",
      "metadata": {
        "id": "oISmmSyTBcBn"
      },
      "source": [
        "import pandas as pd\n",
        "import numpy as np\n",
        "import matplotlib.pyplot as plt\n",
        "import seaborn as sns\n",
        "\n",
        "dataset_url = 'https://raw.githubusercontent.com/araldi/HS21---Big-Data-Analysis-in-Biomedical-Research-376-1723-00L-/main/Week6/Logistic_regression_data.csv'\n",
        "\n",
        "breast = pd.read_csv(dataset_url)"
      ],
      "execution_count": null,
      "outputs": []
    },
    {
      "cell_type": "code",
      "metadata": {
        "id": "EoNQ7WpaBuIG"
      },
      "source": [
        "breast.info()\n"
      ],
      "execution_count": null,
      "outputs": []
    },
    {
      "cell_type": "markdown",
      "metadata": {
        "id": "sgitTBstB5xa"
      },
      "source": [
        "## Exploratory data analysis"
      ]
    },
    {
      "cell_type": "code",
      "metadata": {
        "id": "W6YZOeO2By6q"
      },
      "source": [
        "feature_columns = breast.select_dtypes(exclude = ['int64','object']).columns\n",
        "features = [i for i in feature_columns if 'Unnamed: 32' not in i]\n",
        "features = [i.replace(' ', '_') for i in features]\n",
        "\n",
        "breast.rename(columns = dict(zip(feature_columns, features)), inplace=True)"
      ],
      "execution_count": null,
      "outputs": []
    },
    {
      "cell_type": "code",
      "metadata": {
        "id": "RzsJMQGjB4tN"
      },
      "source": [
        "# in-depth exploration of the features\n",
        "plt.figure(figsize = (20,20))\n",
        "i=1\n",
        "m = breast['diagnosis'] == 'M'\n",
        "b = breast['diagnosis'] == 'B'\n",
        "for feature in features:\n",
        "\n",
        "  plt.subplot(6,5, i)\n",
        "  plt.hist(x=feature, data = breast[m], label = 'M', bins = 50, alpha = 0.5)\n",
        "  plt.hist(x=feature, data = breast[b], label = 'B', bins = 50, alpha = 0.5)\n",
        "  i = i+1\n",
        "  plt.xlabel(feature)\n",
        "  plt.legend()\n",
        "plt.show()\n",
        "plt.close()"
      ],
      "execution_count": null,
      "outputs": []
    },
    {
      "cell_type": "code",
      "source": [
        "# test the correlation among features\n",
        "plt.figure(figsize=(20,20))\n",
        "sns.heatmap(breast[features].corr(),annot=True, cmap='RdBu', vmin=-1, vmax=1)\n",
        "plt.title('Correlation Matrix');\n",
        "\n",
        "# !!!!!\n",
        "# high correlation between radius, perimeter, area --> careful with forest models where correlation is highly problematic! "
      ],
      "metadata": {
        "id": "--4F1uFmMV7E"
      },
      "execution_count": null,
      "outputs": []
    },
    {
      "cell_type": "markdown",
      "metadata": {
        "id": "pr3Fw0WlJc78"
      },
      "source": [
        "## Exercise\n",
        "\n",
        "* Prepare the dataset for machine learning (remove features that might be problematic, convert features in binary/continuos, split in train/test set - 25% test)\n",
        "* Classify malignant or benign breast tumors with Random Forest and Gradient Boosted trees.\n",
        "\n",
        "* Test different parameters (for Random Forest: criterion, depth, estimators, etc - for Gradient Boosted: loss,  depth, estimators, etc) to determine the best model.\n",
        "\n",
        "* Determine feature importance\n",
        "* Predict \"malignant\" or \"benign\" in the 25% split test set with the best fitting model.\n",
        "* Create a confusion matrix for the predictions.\n",
        "\n",
        "\n",
        "\n"
      ]
    },
    {
      "cell_type": "markdown",
      "metadata": {
        "id": "lq2kKDzqCGAL"
      },
      "source": [
        "#### Prepare the dataset for CART\n",
        "\n",
        "*   It is a good idea for CART to remove highly correlated features. Let's start with removing all perimeters and areas (which highly correlate with radius).\n",
        "*   Split train-test datasets\n",
        "\n"
      ]
    },
    {
      "cell_type": "code",
      "source": [
        "# remove highly correlated features"
      ],
      "metadata": {
        "id": "49Gpt-UucxzE"
      },
      "execution_count": null,
      "outputs": []
    },
    {
      "cell_type": "code",
      "metadata": {
        "id": "p41GOBS6L3dt"
      },
      "source": [
        "# split train-test datasets\n",
        "\n",
        "from sklearn.model_selection import train_test_split\n"
      ],
      "execution_count": null,
      "outputs": []
    },
    {
      "cell_type": "markdown",
      "metadata": {
        "id": "8Xe0swOdEJW-"
      },
      "source": [
        "#### Train Random forest models\n",
        "\n",
        "Create different models to test different criteria."
      ]
    },
    {
      "cell_type": "code",
      "metadata": {
        "id": "EjTZsU_qCH7k"
      },
      "source": [
        "from sklearn.ensemble import RandomForestClassifier\n",
        "# https://scikit-learn.org/stable/modules/generated/sklearn.ensemble.RandomForestClassifier.html\n",
        "\n",
        "#model 1\n"
      ],
      "execution_count": null,
      "outputs": []
    },
    {
      "cell_type": "code",
      "metadata": {
        "id": "izrHBxOCEgpn"
      },
      "source": [
        "#model 2\n"
      ],
      "execution_count": null,
      "outputs": []
    },
    {
      "cell_type": "code",
      "source": [
        "#model ..."
      ],
      "metadata": {
        "id": "etuSMQrXdPuA"
      },
      "execution_count": null,
      "outputs": []
    },
    {
      "cell_type": "markdown",
      "source": [
        "#### Determine feature importance in the Random forest models"
      ],
      "metadata": {
        "id": "ZNSsqfvtdH9f"
      }
    },
    {
      "cell_type": "code",
      "metadata": {
        "id": "ynA-rlhWFOBR"
      },
      "source": [
        "# Compare feature importance in the models above\n",
        " # use model.feature_importances_ to determine the importance of each feature\n",
        " # also create a plot with the variance of the feature importance in each of the estimators\n",
        "\n",
        "# Model 1\n",
        "# ....\n"
      ],
      "execution_count": null,
      "outputs": []
    },
    {
      "cell_type": "markdown",
      "source": [
        "#### Predict malignant and benign tumors with the trained models above in the test dataset"
      ],
      "metadata": {
        "id": "18pCovW8d8h2"
      }
    },
    {
      "cell_type": "code",
      "metadata": {
        "id": "wczyjxljFkZX"
      },
      "source": [
        "from sklearn import metrics\n",
        "\n",
        "# use model.predict()"
      ],
      "execution_count": null,
      "outputs": []
    },
    {
      "cell_type": "code",
      "metadata": {
        "id": "Tmgj1czqvduT"
      },
      "source": [
        "def getresults(test,pred_variable):\n",
        "  precision = metrics.precision_score(test,pred_variable,  pos_label=\"M\", average=\"binary\")\n",
        "  recall =  metrics.recall_score(test,pred_variable,  pos_label=\"M\", average=\"binary\")\n",
        "  accuracy = metrics.accuracy_score(test,pred_variable)\n",
        "  f1 = metrics.f1_score(test,pred_variable,  pos_label=\"M\", average=\"binary\")\n",
        "  return 'Precision:',precision , 'Recall: ', recall,\"Accuracy:\", accuracy, \"F1:\", f1"
      ],
      "execution_count": null,
      "outputs": []
    },
    {
      "cell_type": "code",
      "metadata": {
        "id": "znv_KiT_HVk2"
      },
      "source": [
        "# model 1\n",
        "getresults()"
      ],
      "execution_count": null,
      "outputs": []
    },
    {
      "cell_type": "code",
      "metadata": {
        "id": "-yP06-IoIImX"
      },
      "source": [
        "# model 2\n",
        "getresults()"
      ],
      "execution_count": null,
      "outputs": []
    },
    {
      "cell_type": "code",
      "metadata": {
        "id": "9gOz1pX0F4fv"
      },
      "source": [
        "# Draw confusion matrix for each model\n",
        "\n",
        "from sklearn.metrics import ConfusionMatrixDisplay\n",
        "\n",
        "# Model 1\n",
        "ConfusionMatrixDisplay.from_estimator()\n",
        "plt.title(\"confusion matrix model 1\")\n",
        "plt.show()"
      ],
      "execution_count": null,
      "outputs": []
    },
    {
      "cell_type": "code",
      "metadata": {
        "id": "9oufkQKaHI2Y"
      },
      "source": [
        "# Model 2\n",
        "\n",
        "ConfusionMatrixDisplay.from_estimator(rf2,test_df[ml_features].values, test_df['diagnosis'], cmap='inferno',values_format='g')\n",
        "plt.title(\"confusion matrix model 2\")\n",
        "plt.show()"
      ],
      "execution_count": null,
      "outputs": []
    },
    {
      "cell_type": "markdown",
      "metadata": {
        "id": "4wD-i2JmPqxp"
      },
      "source": [
        "####  Train Gradient boosted tree models\n",
        "\n"
      ]
    },
    {
      "cell_type": "code",
      "metadata": {
        "id": "R0VGM6-THQdi"
      },
      "source": [
        "from sklearn.ensemble import GradientBoostingClassifier\n",
        "\n",
        "# https://scikit-learn.org/stable/modules/generated/sklearn.ensemble.GradientBoostingClassifier.html\n",
        "\n"
      ],
      "execution_count": null,
      "outputs": []
    },
    {
      "cell_type": "markdown",
      "source": [
        "#### Determine feature importance in the Gradient boosted models"
      ],
      "metadata": {
        "id": "Ukb1bYM8fgm-"
      }
    },
    {
      "cell_type": "code",
      "metadata": {
        "id": "amwPLL5fKDAH"
      },
      "source": [
        "#there is no standard deviation in gradient boosted tree!\n",
        "\n",
        "# use .feature_importances_ as above\n"
      ],
      "execution_count": null,
      "outputs": []
    },
    {
      "cell_type": "markdown",
      "source": [
        "#### Predict malignant and benign tumors with the GBT trained models above in the test dataset"
      ],
      "metadata": {
        "id": "11ntIo_Pfr-U"
      }
    },
    {
      "cell_type": "code",
      "metadata": {
        "id": "fmNJ7OwTLEfI"
      },
      "source": [
        "# use .predict()"
      ],
      "execution_count": null,
      "outputs": []
    },
    {
      "cell_type": "code",
      "metadata": {
        "id": "N2u8TzI0PQks"
      },
      "source": [
        "# evaluate the predictions\n",
        "getresults()"
      ],
      "execution_count": null,
      "outputs": []
    },
    {
      "cell_type": "code",
      "metadata": {
        "id": "G04AswMAPTmZ"
      },
      "source": [
        "# Draw a confusion matrix\n"
      ],
      "execution_count": null,
      "outputs": []
    },
    {
      "cell_type": "markdown",
      "metadata": {
        "id": "Q0osGI7EtWwt"
      },
      "source": [
        "# GridCV: most efficient way to tune hyperparameters"
      ]
    },
    {
      "cell_type": "markdown",
      "metadata": {
        "id": "Nvi9dALTL-b2"
      },
      "source": [
        "### Random Forest"
      ]
    },
    {
      "cell_type": "code",
      "metadata": {
        "id": "Raj6Gywhsu4t"
      },
      "source": [
        "from sklearn.ensemble import RandomForestClassifier\n",
        "from sklearn.model_selection import GridSearchCV\n",
        "\n",
        "# determine the classifier and basic parameters of the classifier\n",
        "rf =  RandomForestClassifier(random_state=2022)\n",
        "\n",
        "# decide the hyperparameters to be tested\n",
        "min_samples_split = [2,3,4]                                      \n",
        "max_depth=[3,4,5,6,8, None]\n",
        "criterion= ['gini','entropy']\n",
        "parameters_rf=dict(min_samples_split=min_samples_split,criterion=criterion,max_depth=max_depth)\n",
        "\n",
        "#training random forest model with combinations of all hyperparameters above using GridSearchCV\n",
        "# GridSearchCV will find the hyperparameters that will give you the best predictions in cross validation according to the scoring method chosen\n",
        "gridrf=GridSearchCV(rf,parameters_rf,cv=10, scoring = 'accuracy')\n",
        "gridrf.fit(train_df[ml_features],train_df['diagnosis']);"
      ],
      "execution_count": null,
      "outputs": []
    },
    {
      "cell_type": "code",
      "metadata": {
        "id": "lGUDDRVmrrX-"
      },
      "source": [
        "# Evaluate which hyperparameter gives the best predictions according to the scoring method chosen\n",
        "def examinebestmodel(model_name):\n",
        "    print(model_name.best_score_)\n",
        "    print(model_name.best_params_)\n",
        "    print(model_name.best_estimator_)"
      ],
      "execution_count": null,
      "outputs": []
    },
    {
      "cell_type": "code",
      "metadata": {
        "id": "Mqnaa4-Gt45H"
      },
      "source": [
        "examinebestmodel(gridrf)"
      ],
      "execution_count": null,
      "outputs": []
    },
    {
      "cell_type": "code",
      "metadata": {
        "id": "ux4NR4h9u733"
      },
      "source": [
        "# predict the classification on the test dataset with the best estimators obtained from GridSearchCV\n",
        "test_prediction_rf=gridrf.best_estimator_.predict(test_df[ml_features])\n",
        "\n",
        "getresults(test_df['diagnosis'],test_prediction_rf)"
      ],
      "execution_count": null,
      "outputs": []
    },
    {
      "cell_type": "code",
      "metadata": {
        "id": "d939wopqvLyy"
      },
      "source": [
        "#confusion matrix for the best model\n",
        "ConfusionMatrixDisplay.from_estimator(gridrf.best_estimator_,test_df[ml_features],test_df['diagnosis'],cmap='inferno',values_format='g')\n",
        "plt.show()"
      ],
      "execution_count": null,
      "outputs": []
    },
    {
      "cell_type": "markdown",
      "metadata": {
        "id": "TI3BWd6QMCHp"
      },
      "source": [
        "### Gradient Boosting"
      ]
    },
    {
      "cell_type": "code",
      "metadata": {
        "id": "LY3AQ13DmdCX"
      },
      "source": [
        "from sklearn.ensemble import GradientBoostingClassifier\n",
        "from sklearn.model_selection import GridSearchCV\n",
        "\n",
        "gbt =  GradientBoostingClassifier()\n",
        "loss = ['exponential', 'deviance']                                      \n",
        "max_depth=[3,4,5,6,8, None]\n",
        "criterion= ['squared_error','friedman_mse']\n",
        "\n",
        "parameters_gbt=dict(loss=loss,criterion=criterion,max_depth=max_depth)\n",
        "\n",
        "#training GBT model, finding best params\n",
        "gridgbt=GridSearchCV(gbt,parameters_gbt,cv=10, scoring = 'accuracy', error_score='raise')\n",
        "gridgbt.fit(train_df[ml_features],train_df['diagnosis']);"
      ],
      "execution_count": null,
      "outputs": []
    },
    {
      "cell_type": "code",
      "metadata": {
        "id": "T1FhON6frtje"
      },
      "source": [
        "examinebestmodel(gridgbt)"
      ],
      "execution_count": null,
      "outputs": []
    },
    {
      "cell_type": "code",
      "metadata": {
        "id": "fj2tnDpyo1Rz"
      },
      "source": [
        "test_prediction_gbt=gridgbt.best_estimator_.predict(test_df[ml_features])\n"
      ],
      "execution_count": null,
      "outputs": []
    },
    {
      "cell_type": "code",
      "metadata": {
        "id": "u8IoSuP_pXUO"
      },
      "source": [
        "getresults(test_df['diagnosis'],test_prediction_gbt)"
      ],
      "execution_count": null,
      "outputs": []
    },
    {
      "cell_type": "code",
      "metadata": {
        "id": "wiTuYdzNpoJ6"
      },
      "source": [
        "#confusion matrix for gbt\n",
        "ConfusionMatrixDisplay.from_estimator(gridgbt.best_estimator_,test_df[ml_features],test_df['diagnosis'],cmap='inferno',values_format='g')\n",
        "plt.show()"
      ],
      "execution_count": null,
      "outputs": []
    },
    {
      "cell_type": "markdown",
      "metadata": {
        "id": "P7EDFqCQPflV"
      },
      "source": [
        "# K-NN classifier\n",
        "\n",
        "In this example, we will use GridSearchCV to find the best hyperparameters for the model"
      ]
    },
    {
      "cell_type": "code",
      "metadata": {
        "id": "jyRxvZQbMKPT"
      },
      "source": [
        "breast[features]"
      ],
      "execution_count": null,
      "outputs": []
    },
    {
      "cell_type": "markdown",
      "metadata": {
        "id": "PM5fLr72Oww0"
      },
      "source": [
        "Divide train/test and scale (this time, scaling is important!)"
      ]
    },
    {
      "cell_type": "code",
      "metadata": {
        "id": "ptb8ERscM3BW"
      },
      "source": [
        "from sklearn import preprocessing\n",
        "from sklearn.model_selection import train_test_split\n",
        "\n",
        "train_df, test_df = train_test_split(breast, test_size=0.25, random_state=2022)\n",
        "\n",
        "\n",
        "scaler = preprocessing.StandardScaler()\n",
        "train_df[features]=scaler.fit_transform(train_df[features])\n",
        "test_df[features]=scaler.fit_transform(test_df[features])\n"
      ],
      "execution_count": null,
      "outputs": []
    },
    {
      "cell_type": "markdown",
      "source": [
        "#### Use GridSearchCV to find optimal hyperparameters for the model"
      ],
      "metadata": {
        "id": "yKnMsXCpiZ8B"
      }
    },
    {
      "cell_type": "code",
      "metadata": {
        "id": "GDxyuPKOPabN"
      },
      "source": [
        "from sklearn.neighbors import KNeighborsClassifier\n",
        "from sklearn.model_selection import GridSearchCV\n",
        "\n",
        "# https://scikit-learn.org/stable/modules/generated/sklearn.neighbors.KNeighborsClassifier.html\n",
        "\n",
        "knn = KNeighborsClassifier()\n",
        "neighbors=[3,5,9,13]\n",
        "metric=['manhattan','euclidean', 'chebyshev']\n",
        "algorithm=['ball_tree', 'brute','auto', 'kd_tree']\n",
        "parameters_knn=dict(n_neighbors=neighbors,metric=metric,algorithm=algorithm)\n",
        "\n",
        "\n",
        "#training KNN model, finding best params\n",
        "gridknn=GridSearchCV(knn,parameters_knn,cv=10,verbose=1, scoring = 'accuracy')\n",
        "gridknn.fit(train_df[features],train_df['diagnosis'])"
      ],
      "execution_count": null,
      "outputs": []
    },
    {
      "cell_type": "code",
      "metadata": {
        "id": "SukouVLDSlXw"
      },
      "source": [
        "examinebestmodel(gridknn)"
      ],
      "execution_count": null,
      "outputs": []
    },
    {
      "cell_type": "markdown",
      "source": [
        "#### Predict malignant/benign on test set with the optimal hyperparameters"
      ],
      "metadata": {
        "id": "2ppMRz4Uibut"
      }
    },
    {
      "cell_type": "code",
      "metadata": {
        "id": "cEUIjxbmSmhD"
      },
      "source": [
        "#predicting on test set\n",
        "test_prediction_knn=gridknn.best_estimator_.predict(test_df[features])\n",
        "getresults(test_df['diagnosis'],test_prediction_knn)"
      ],
      "execution_count": null,
      "outputs": []
    },
    {
      "cell_type": "code",
      "metadata": {
        "id": "DmGfTL6JSuTj"
      },
      "source": [
        "\n",
        "#confusion matrix for KNN \n",
        "ConfusionMatrixDisplay.from_estimator(gridknn.best_estimator_,test_df[features],test_df['diagnosis'],cmap='inferno',values_format='g')\n",
        "plt.show()"
      ],
      "execution_count": null,
      "outputs": []
    },
    {
      "cell_type": "markdown",
      "metadata": {
        "id": "xmAOR-I8UUIL"
      },
      "source": [
        "# SVM"
      ]
    },
    {
      "cell_type": "code",
      "metadata": {
        "id": "68awb_OqS9E5"
      },
      "source": [
        "from sklearn.svm import SVC\n",
        "\n",
        "# https://scikit-learn.org/stable/modules/generated/sklearn.svm.SVC.html\n",
        "\n",
        "svm_model= SVC()\n",
        "parameters_SVC = {\n",
        " 'C': [1, 10,100], 'kernel': ['linear','rbf','sigmoid', 'poly'], \n",
        " 'gamma': [1,0.01, 0.0001]}\n",
        "\n",
        "\n",
        "# C is the regularization parameter:\n",
        "#  large C will find a hyperplane with smaller margins (= more segmentations, therefore better fit)\n",
        "\n",
        "# gamma is how far the influence of a single training example reaches\n",
        "# high gamma: points close to plausible line are considered in calculation\n",
        "# low gamma: points far away from plausible seperation line are considered in calculation for the separation line\n",
        "\n",
        "model_svm = GridSearchCV(svm_model, parameters_SVC,cv=10, scoring = 'accuracy')\n",
        "model_svm.fit(train_df[features],train_df['diagnosis'])\n",
        "\n"
      ],
      "execution_count": null,
      "outputs": []
    },
    {
      "cell_type": "code",
      "metadata": {
        "id": "niLoYy5p2Lsq"
      },
      "source": [
        "examinebestmodel(model_svm)"
      ],
      "execution_count": null,
      "outputs": []
    },
    {
      "cell_type": "code",
      "metadata": {
        "id": "SHTQz4rQ2W9c"
      },
      "source": [
        "#predicting on test set\n",
        "test_prediction_svm=model_svm.best_estimator_.predict(test_df[features])\n",
        "getresults(test_df['diagnosis'],test_prediction_svm)"
      ],
      "execution_count": null,
      "outputs": []
    },
    {
      "cell_type": "code",
      "metadata": {
        "id": "bSB9LzWR2guj"
      },
      "source": [
        "#confusion matrix for svm\n",
        "ConfusionMatrixDisplay.from_estimator(model_svm.best_estimator_,test_df[features],test_df['diagnosis'],cmap='inferno',values_format='g')\n",
        "plt.show()"
      ],
      "execution_count": null,
      "outputs": []
    },
    {
      "cell_type": "code",
      "metadata": {
        "id": "9OVtZybo2mPu"
      },
      "source": [],
      "execution_count": null,
      "outputs": []
    }
  ]
}