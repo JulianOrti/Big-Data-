{
  "cells": [
    {
      "cell_type": "markdown",
      "metadata": {
        "id": "view-in-github",
        "colab_type": "text"
      },
      "source": [
        "<a href=\"https://colab.research.google.com/github/araldi/HS22_Big-Data-analysis-in-Biomedical-Research/blob/main/Week_09/17_Classification_on_Euler_solutions.ipynb\" target=\"_parent\"><img src=\"https://colab.research.google.com/assets/colab-badge.svg\" alt=\"Open In Colab\"/></a>"
      ]
    },
    {
      "cell_type": "markdown",
      "metadata": {
        "id": "86f9f296"
      },
      "source": [
        "# Use Euler to run python code\n",
        "\n",
        "This week, we will see how to run python script on Euler, which might be necessary when you are dealing with large datasets.\n",
        "\n",
        "For this exercise, we will use data of brain cancer gene expression.\n",
        "\n",
        "You can find the raw data on Kaggle: https://www.kaggle.com/datasets/brunogrisci/brain-cancer-gene-expression-cumida"
      ],
      "id": "86f9f296"
    },
    {
      "cell_type": "markdown",
      "metadata": {
        "id": "04ea0cf1"
      },
      "source": [
        "## Prepare your environment"
      ],
      "id": "04ea0cf1"
    },
    {
      "cell_type": "code",
      "execution_count": null,
      "metadata": {
        "id": "19d26143"
      },
      "outputs": [],
      "source": [
        "# Import libraries\n",
        "import pandas as pd\n",
        "import numpy as np\n",
        "import seaborn as sns\n",
        "from sklearn import preprocessing\n",
        "from sklearn.manifold import TSNE\n",
        "import matplotlib.pyplot as plt\n",
        "from sklearn.preprocessing import StandardScaler\n",
        "from sklearn.model_selection import GridSearchCV\n",
        "from sklearn.model_selection import train_test_split\n",
        "from sklearn import ensemble\n",
        "from sklearn import metrics\n",
        "from sklearn.metrics import plot_confusion_matrix\n",
        "from sklearn.metrics import confusion_matrix\n",
        "from sklearn.metrics import classification_report\n",
        "from sklearn.decomposition import PCA\n",
        "import time\n",
        "import random\n",
        "import json\n",
        "import os\n",
        "\n",
        "# Set random seed\n",
        "random.seed(2022)"
      ],
      "id": "19d26143"
    },
    {
      "cell_type": "markdown",
      "metadata": {
        "id": "D4XZwJD5IgBd"
      },
      "source": [
        "## Download the data"
      ],
      "id": "D4XZwJD5IgBd"
    },
    {
      "cell_type": "code",
      "execution_count": null,
      "metadata": {
        "colab": {
          "base_uri": "https://localhost:8080/"
        },
        "id": "JAzHayjfH2tn",
        "outputId": "fc30b480-7097-4593-8450-52cbc92f9f0f"
      },
      "outputs": [
        {
          "name": "stdout",
          "output_type": "stream",
          "text": [
            "Mounted at /content/gdrive\n"
          ]
        }
      ],
      "source": [
        "from google.colab import drive\n",
        "\n",
        "drive.mount(\"/content/gdrive\")"
      ],
      "id": "JAzHayjfH2tn"
    },
    {
      "cell_type": "code",
      "execution_count": null,
      "metadata": {
        "colab": {
          "base_uri": "https://localhost:8080/"
        },
        "id": "2JBeMO9PIEYv",
        "outputId": "e2d6fea7-bbbf-40ed-ced1-1f05a89dc198"
      },
      "outputs": [
        {
          "name": "stdout",
          "output_type": "stream",
          "text": [
            "'kaggle(1).json'   \u001b[0m\u001b[01;34mkaggleBrainTumor\u001b[0m/   kaggle.json   \u001b[01;34mkaggleTitanic\u001b[0m/\n"
          ]
        }
      ],
      "source": [
        "ls /content/gdrive/MyDrive/HS22_Big_Data_Analysis_in_Biomedical_Research_exercises"
      ],
      "id": "2JBeMO9PIEYv"
    },
    {
      "cell_type": "code",
      "execution_count": null,
      "metadata": {
        "colab": {
          "base_uri": "https://localhost:8080/"
        },
        "id": "UgGMVncOIr7E",
        "outputId": "bcabe0db-9a7c-4d1a-9815-4dc9633c4a5c"
      },
      "outputs": [
        {
          "name": "stdout",
          "output_type": "stream",
          "text": [
            "/content/gdrive/MyDrive/HS22_Big_Data_Analysis_in_Biomedical_Research_exercises\n"
          ]
        }
      ],
      "source": [
        "cd /content/gdrive/MyDrive/HS22_Big_Data_Analysis_in_Biomedical_Research_exercises"
      ],
      "id": "UgGMVncOIr7E"
    },
    {
      "cell_type": "code",
      "execution_count": null,
      "metadata": {
        "id": "9kcvViHKIOqs"
      },
      "outputs": [],
      "source": [
        "envs = json.load(open(\"kaggle(1).json\", \"r\"))\n",
        "os.environ[\"KAGGLE_USERNAME\"] = envs['username']\n",
        "os.environ[\"KAGGLE_KEY\"] = envs['key']"
      ],
      "id": "9kcvViHKIOqs"
    },
    {
      "cell_type": "code",
      "execution_count": null,
      "metadata": {
        "colab": {
          "base_uri": "https://localhost:8080/"
        },
        "id": "eake5LrPIR4R",
        "outputId": "76085bad-4b96-4f0a-bd6b-90f51f92457b"
      },
      "outputs": [
        {
          "name": "stdout",
          "output_type": "stream",
          "text": [
            "ref                                                              title                                               size  lastUpdated          downloadCount  voteCount  usabilityRating  \n",
            "---------------------------------------------------------------  -------------------------------------------------  -----  -------------------  -------------  ---------  ---------------  \n",
            "crawford/gene-expression                                         Gene expression dataset (Golub et al.)               1MB  2017-08-08 20:56:48          13202        248  0.8235294        \n",
            "raghadalharbi/breast-cancer-gene-expression-profiles-metabric    Breast Cancer Gene Expression Profiles (METABRIC)    3MB  2020-05-26 20:08:07           3556         72  0.9411765        \n",
            "brunogrisci/breast-cancer-gene-expression-cumida                 Breast cancer gene expression - CuMiDa              62MB  2020-02-01 10:51:48           1729         50  0.9705882        \n",
            "brunogrisci/brain-cancer-gene-expression-cumida                  Brain cancer gene expression - CuMiDa               53MB  2020-02-01 11:33:24           1263         26  0.9705882        \n",
            "andrewgao/alzheimers-gene-expression-profiles                    Alzheimer's Gene Expression Profiles                 2MB  2019-12-11 04:51:33            631         28  0.88235295       \n",
            "brunogrisci/leukemia-gene-expression-cumida                      Leukemia gene expression - CuMiDa                   11MB  2020-02-01 11:08:37            913         14  0.9705882        \n",
            "piotrgrabo/breastcancerproteomes                                 Breast Cancer Proteomes                              5MB  2019-11-14 05:15:12          12518        344  0.64705884       \n",
            "usharengaraju/crimeagainstwomen                                  sRNA sequencing - Brain (GSE75140)                  25MB  2020-04-05 16:03:10            384        172  0.875            \n",
            "lachmann12/human-liver-rnaseq-gene-expression-903-samples        Human liver RNA-Seq gene expression (903 samples)   19MB  2019-10-23 15:14:40            289          9  0.88235295       \n",
            "usharengaraju/electedindianwomeninpanchayats                     Raw mouse mammary RNA-Seq data (fastq)               1MB  2020-04-05 19:00:22            286        142  1.0              \n",
            "costalaether/yeast-transcriptomics                               Transcriptomics in yeast                             5MB  2017-01-24 11:13:04           1067         64  0.8235294        \n",
            "alexandervc/genes-expressions-datasets-collection                Genes Expressions Datasets Collection               29MB  2020-10-23 12:23:59            139          7  0.47058824       \n",
            "saurabhshahane/gene-data                                         Largest Gene Expression Data on Kaggle               1GB  2021-02-15 16:57:43            185          6  0.8125           \n",
            "amandam1/colorectal-cancer-patients                              Real Colorectal Cancer Datasets                    703KB  2021-08-28 16:16:49            940         31  1.0              \n",
            "aayush9753/singlecell-rnaseq-data-from-mouse-brain               Single-cell RNASeq data from Mouse Brain            72MB  2021-09-12 00:52:17            160         36  0.5882353        \n",
            "thomaskonstantin/cpg-values-of-smoking-and-non-smoking-patients   CpG Values of Smoking and Non Smoking Patients     68KB  2021-05-30 13:24:48            674         37  1.0              \n",
            "kmader/circadian-rhythm-in-the-brain                             Circadian Rhythm in the Brain                        1GB  2017-03-21 10:52:20            883         62  0.64705884       \n",
            "usharengaraju/indian-women-rehabilitation                        sRNA sequencing - Pancreas (GSE84133)               63MB  2020-04-05 16:29:01            182        148  0.875            \n",
            "saurabhshahane/gene-expression-profiles-of-breast-cancer         Gene Expression Profiles of Breast Cancer          107MB  2022-03-14 18:24:48             50          9  0.75             \n",
            "samdemharter/brca-multiomics-tcga                                BRCA Multi-Omics (TCGA)                              7MB  2022-02-15 14:09:08            486         20  0.64705884       \n"
          ]
        }
      ],
      "source": [
        "!kaggle datasets list -s 'gene expression'"
      ],
      "id": "eake5LrPIR4R"
    },
    {
      "cell_type": "code",
      "execution_count": null,
      "metadata": {
        "colab": {
          "base_uri": "https://localhost:8080/"
        },
        "id": "-FMNWV53ITD2",
        "outputId": "9510932f-eed8-45df-ccbd-49125fffe525"
      },
      "outputs": [
        {
          "name": "stdout",
          "output_type": "stream",
          "text": [
            "mkdir: cannot create directory ‘kaggleBrainTumor’: File exists\n"
          ]
        }
      ],
      "source": [
        "!mkdir kaggleBrainTumor"
      ],
      "id": "-FMNWV53ITD2"
    },
    {
      "cell_type": "code",
      "execution_count": null,
      "metadata": {
        "colab": {
          "base_uri": "https://localhost:8080/"
        },
        "id": "IoU8liNGJTOk",
        "outputId": "22b32c30-1b2b-4fb0-ecb6-d28902326889"
      },
      "outputs": [
        {
          "name": "stdout",
          "output_type": "stream",
          "text": [
            "/content/gdrive/MyDrive/HS22_Big_Data_Analysis_in_Biomedical_Research_exercises/kaggleBrainTumor\n"
          ]
        }
      ],
      "source": [
        "cd kaggleBrainTumor"
      ],
      "id": "IoU8liNGJTOk"
    },
    {
      "cell_type": "code",
      "execution_count": null,
      "metadata": {
        "colab": {
          "base_uri": "https://localhost:8080/"
        },
        "id": "qlwZEgDjIbKE",
        "outputId": "0395f8a6-7a4a-4c46-eb30-29cef4f61ff8"
      },
      "outputs": [
        {
          "name": "stdout",
          "output_type": "stream",
          "text": [
            "brain-cancer-gene-expression-cumida.zip: Skipping, found more recently modified local copy (use --force to force download)\n"
          ]
        }
      ],
      "source": [
        "# download the titanic data into the directory you created for it\n",
        "!kaggle datasets download -d brunogrisci/brain-cancer-gene-expression-cumida"
      ],
      "id": "qlwZEgDjIbKE"
    },
    {
      "cell_type": "code",
      "execution_count": null,
      "metadata": {
        "colab": {
          "base_uri": "https://localhost:8080/"
        },
        "id": "rklwQ42gKo40",
        "outputId": "e2b6c611-9f5a-47b8-ac57-e2a554822eb2"
      },
      "outputs": [
        {
          "name": "stdout",
          "output_type": "stream",
          "text": [
            "brain-cancer-gene-expression-cumida.zip\n"
          ]
        }
      ],
      "source": [
        "ls"
      ],
      "id": "rklwQ42gKo40"
    },
    {
      "cell_type": "code",
      "execution_count": null,
      "metadata": {
        "colab": {
          "base_uri": "https://localhost:8080/"
        },
        "id": "ksSiLmwJIea8",
        "outputId": "3d0e122e-822a-402f-f438-a9db952eb6a4"
      },
      "outputs": [
        {
          "name": "stdout",
          "output_type": "stream",
          "text": [
            "Archive:  brain-cancer-gene-expression-cumida.zip\n",
            "  inflating: Brain_GSE50161.csv      \n"
          ]
        }
      ],
      "source": [
        "!unzip brain-cancer-gene-expression-cumida.zip"
      ],
      "id": "ksSiLmwJIea8"
    },
    {
      "cell_type": "code",
      "execution_count": null,
      "metadata": {
        "colab": {
          "base_uri": "https://localhost:8080/"
        },
        "id": "BTr3iy13Ksuo",
        "outputId": "f8537132-2cd3-4476-a85d-628f9f772d43"
      },
      "outputs": [
        {
          "name": "stdout",
          "output_type": "stream",
          "text": [
            "brain-cancer-gene-expression-cumida.zip  Brain_GSE50161.csv\n"
          ]
        }
      ],
      "source": [
        "ls"
      ],
      "id": "BTr3iy13Ksuo"
    },
    {
      "cell_type": "code",
      "execution_count": null,
      "metadata": {
        "id": "vzQCDcy_Kuo0"
      },
      "outputs": [],
      "source": [
        "mv Brain_GSE50161.csv /content/gdrive/MyDrive/HS22_Big_Data_Analysis_in_Biomedical_Research_376-1723-00L/week_09/Euler-Lucie/data/"
      ],
      "id": "vzQCDcy_Kuo0"
    },
    {
      "cell_type": "code",
      "execution_count": null,
      "metadata": {
        "colab": {
          "base_uri": "https://localhost:8080/"
        },
        "id": "CGQ1Ttw2K23w",
        "outputId": "92bcf14a-3250-43cc-f668-7e4298834acf"
      },
      "outputs": [
        {
          "name": "stdout",
          "output_type": "stream",
          "text": [
            "/content/gdrive/MyDrive/HS22_Big_Data_Analysis_in_Biomedical_Research_376-1723-00L/week_09/Euler-Lucie\n"
          ]
        }
      ],
      "source": [
        "cd /content/gdrive/MyDrive/HS22_Big_Data_Analysis_in_Biomedical_Research_376-1723-00L/week_09/Euler-Lucie/"
      ],
      "id": "CGQ1Ttw2K23w"
    },
    {
      "cell_type": "code",
      "execution_count": null,
      "metadata": {
        "colab": {
          "base_uri": "https://localhost:8080/"
        },
        "id": "Wr88a4OaLhPm",
        "outputId": "21aad104-e795-4992-ce55-bc7251fbfa45"
      },
      "outputs": [
        {
          "name": "stdout",
          "output_type": "stream",
          "text": [
            "\u001b[0m\u001b[01;34mcode\u001b[0m/  \u001b[01;34mdata\u001b[0m/  Euler-practical_example_Lucie.gslides  \u001b[01;34moutput\u001b[0m/\n"
          ]
        }
      ],
      "source": [
        "ls"
      ],
      "id": "Wr88a4OaLhPm"
    },
    {
      "cell_type": "code",
      "execution_count": null,
      "metadata": {
        "colab": {
          "base_uri": "https://localhost:8080/"
        },
        "id": "EKroeWCtLngU",
        "outputId": "3d2cdc96-dcbc-42a1-f81d-61fb74f9ab25"
      },
      "outputs": [
        {
          "name": "stdout",
          "output_type": "stream",
          "text": [
            "/content/gdrive/MyDrive/HS22_Big_Data_Analysis_in_Biomedical_Research_376-1723-00L/week_09/Euler-Lucie/code\n"
          ]
        }
      ],
      "source": [
        "cd code"
      ],
      "id": "EKroeWCtLngU"
    },
    {
      "cell_type": "code",
      "execution_count": null,
      "metadata": {
        "id": "EP8hXhmmK0mi"
      },
      "outputs": [],
      "source": [
        "# Declare paths\n",
        "main_path = '../'\n",
        "data_path = main_path + 'data/'\n",
        "output_path = main_path + 'output/'"
      ],
      "id": "EP8hXhmmK0mi"
    },
    {
      "cell_type": "markdown",
      "metadata": {
        "id": "89760b9a"
      },
      "source": [
        "## Load the data"
      ],
      "id": "89760b9a"
    },
    {
      "cell_type": "code",
      "execution_count": null,
      "metadata": {
        "id": "cdd22102"
      },
      "outputs": [],
      "source": [
        "data = pd.read_csv(data_path + 'Brain_GSE50161.csv')"
      ],
      "id": "cdd22102"
    },
    {
      "cell_type": "code",
      "execution_count": null,
      "metadata": {
        "colab": {
          "base_uri": "https://localhost:8080/"
        },
        "id": "f4e2ee2b",
        "outputId": "3a6af9ec-9841-4d58-884d-541070c71c98"
      },
      "outputs": [
        {
          "name": "stdout",
          "output_type": "stream",
          "text": [
            "   samples        type  1007_s_at   1053_at     117_at    121_at  1255_g_at  \\\n",
            "0      834  ependymoma  12.498150  7.604868   6.880934  9.027128   4.176175   \n",
            "1      835  ependymoma  13.067436  7.998090   7.209076  9.723322   4.826126   \n",
            "2      836  ependymoma  13.068179  8.573674   8.647684  9.613002   4.396581   \n",
            "3      837  ependymoma  12.456040  9.098977   6.628784  8.517677   4.154847   \n",
            "4      838  ependymoma  12.699958  8.800721  11.556188  9.166309   4.165891   \n",
            "\n",
            "    1294_at   1316_at   1320_at  ...  AFFX-r2-Ec-bioD-3_at  \\\n",
            "0  7.224920  6.085942  6.835999  ...              9.979005   \n",
            "1  7.539381  6.250962  8.012549  ...             11.924749   \n",
            "2  7.813101  6.007746  7.178156  ...             12.154405   \n",
            "3  8.361843  6.596064  6.347285  ...             11.969072   \n",
            "4  7.923826  6.212754  6.866387  ...             11.411701   \n",
            "\n",
            "   AFFX-r2-Ec-bioD-5_at  AFFX-r2-P1-cre-3_at  AFFX-r2-P1-cre-5_at  \\\n",
            "0              9.926470            12.719785            12.777792   \n",
            "1             11.215930            13.605662            13.401342   \n",
            "2             11.532460            13.764593            13.477800   \n",
            "3             11.288801            13.600828            13.379029   \n",
            "4             11.169317            13.751442            13.803646   \n",
            "\n",
            "   AFFX-ThrX-3_at  AFFX-ThrX-5_at  AFFX-ThrX-M_at  AFFX-TrpnX-3_at  \\\n",
            "0        5.403657        4.870548        4.047380         3.721936   \n",
            "1        5.224555        4.895315        3.786437         3.564481   \n",
            "2        5.303565        5.052184        4.005343         3.595382   \n",
            "3        4.953429        4.708371        3.892318         3.759429   \n",
            "4        4.892677        4.773806        3.796856         3.577544   \n",
            "\n",
            "   AFFX-TrpnX-5_at  AFFX-TrpnX-M_at  \n",
            "0         4.516434         4.749940  \n",
            "1         4.430891         4.491416  \n",
            "2         4.563494         4.668827  \n",
            "3         4.748381         4.521275  \n",
            "4         4.504385         4.541450  \n",
            "\n",
            "[5 rows x 54677 columns]\n"
          ]
        }
      ],
      "source": [
        "print(data.head())"
      ],
      "id": "f4e2ee2b"
    },
    {
      "cell_type": "code",
      "execution_count": null,
      "metadata": {
        "colab": {
          "base_uri": "https://localhost:8080/"
        },
        "id": "512332a1",
        "outputId": "23684b9b-53c7-40e9-f962-fd765fec8e42"
      },
      "outputs": [
        {
          "name": "stdout",
          "output_type": "stream",
          "text": [
            "This dataset is of shape (130, 54677)\n"
          ]
        }
      ],
      "source": [
        "print('This dataset is of shape', data.shape)"
      ],
      "id": "512332a1"
    },
    {
      "cell_type": "code",
      "execution_count": null,
      "metadata": {
        "colab": {
          "base_uri": "https://localhost:8080/"
        },
        "id": "f886ec4f",
        "outputId": "5b66860c-6c67-44d1-cb71-7b66a9fb0ee2"
      },
      "outputs": [
        {
          "name": "stdout",
          "output_type": "stream",
          "text": [
            "There are 130 unique samples in this dataset.\n"
          ]
        }
      ],
      "source": [
        "print('There are', data['samples'].nunique(), 'unique samples in this dataset.')"
      ],
      "id": "f886ec4f"
    },
    {
      "cell_type": "code",
      "execution_count": null,
      "metadata": {
        "colab": {
          "base_uri": "https://localhost:8080/"
        },
        "id": "c98ad887",
        "outputId": "f1ed7653-dd58-4051-9e6d-55d116aa0668"
      },
      "outputs": [
        {
          "name": "stdout",
          "output_type": "stream",
          "text": [
            "There are 5 unique phenotypes/labels in this dataset.\n",
            "The phenotypes present are ['ependymoma' 'glioblastoma' 'medulloblastoma' 'normal'\n",
            " 'pilocytic_astrocytoma']\n"
          ]
        }
      ],
      "source": [
        "print('There are', data['type'].nunique(), 'unique phenotypes/labels in this dataset.')\n",
        "print('The phenotypes present are', data['type'].unique())"
      ],
      "id": "c98ad887"
    },
    {
      "cell_type": "markdown",
      "metadata": {
        "id": "0639e479"
      },
      "source": [
        "## Aim of the analysis\n",
        "\n",
        "We want to determine whether the 5 phenotypes can be predicted based on gene expression data.\n",
        "\n",
        "Because this dataset includes the expression of 54'677 different genes, we will first write the code on Jupyter using a subset, before running the entire analysis on Euler."
      ],
      "id": "0639e479"
    },
    {
      "cell_type": "markdown",
      "metadata": {
        "id": "7d1129be"
      },
      "source": [
        "## Subset the data"
      ],
      "id": "7d1129be"
    },
    {
      "cell_type": "code",
      "execution_count": null,
      "metadata": {
        "colab": {
          "base_uri": "https://localhost:8080/"
        },
        "id": "d7060132",
        "outputId": "a6d9e8c6-052a-48d1-ad0c-8898dce4c100"
      },
      "outputs": [
        {
          "name": "stdout",
          "output_type": "stream",
          "text": [
            "The dataset used for the analysis is of size (130, 102)\n"
          ]
        }
      ],
      "source": [
        "# select for the first 103 columns, note that this line will be commented out on Euler\n",
        "data_analysis = data.iloc[:, :102]\n",
        "\n",
        "# in order to use the same variable name in Jupyter and Euler, you can create a copy of data \n",
        "# note that this line will be uncommented on Euler\n",
        "# data_analysis = data \n",
        "\n",
        "print('The dataset used for the analysis is of size', data_analysis.shape)"
      ],
      "id": "d7060132"
    },
    {
      "cell_type": "code",
      "execution_count": null,
      "metadata": {
        "colab": {
          "base_uri": "https://localhost:8080/"
        },
        "id": "2a46f031",
        "outputId": "7d8d65a0-165e-413b-a4eb-03923dcf83b4"
      },
      "outputs": [
        {
          "name": "stdout",
          "output_type": "stream",
          "text": [
            "Number of NAs in the dataset\n",
            "For-loop done\n"
          ]
        }
      ],
      "source": [
        "print('Number of NAs in the dataset')\n",
        "\n",
        "# We will only print the columns in which data is missing\n",
        "for col in data_analysis.columns:\n",
        "  if data_analysis[col].isna().sum() != 0:\n",
        "    print('There are', data_analysis[col].isna().sum(), 'in column', col)\n",
        "\n",
        "print('For-loop done') # adding this line allows you to have an output even if no column has missing data"
      ],
      "id": "2a46f031"
    },
    {
      "cell_type": "code",
      "execution_count": null,
      "metadata": {
        "id": "487b9fb8"
      },
      "outputs": [],
      "source": [
        "# Scale the data, excluding the first 2 columns (categorical)\n",
        "\n",
        "cols = data_analysis.columns[~data_analysis.columns.isin(['samples', 'type'])]\n",
        "data_analysis[cols] = preprocessing.scale(data_analysis[cols], axis=0)"
      ],
      "id": "487b9fb8"
    },
    {
      "cell_type": "markdown",
      "metadata": {
        "id": "964b1353"
      },
      "source": [
        "## Dimensionality reduction"
      ],
      "id": "964b1353"
    },
    {
      "cell_type": "markdown",
      "metadata": {
        "id": "82e345b7"
      },
      "source": [
        "### t-SNE\n",
        "\n",
        "For more information on the t-SNE implementation in Python, see the [sklearn documentation for t-SNE](https://scikit-learn.org/stable/modules/generated/sklearn.manifold.TSNE.html)"
      ],
      "id": "82e345b7"
    },
    {
      "cell_type": "code",
      "execution_count": null,
      "metadata": {
        "colab": {
          "base_uri": "https://localhost:8080/",
          "height": 696
        },
        "id": "b147951d",
        "outputId": "06b496be-0525-4529-ed66-21022ffb8d10"
      },
      "outputs": [
        {
          "name": "stderr",
          "output_type": "stream",
          "text": [
            "/usr/local/lib/python3.7/dist-packages/sklearn/manifold/_t_sne.py:783: FutureWarning: The default initialization in TSNE will change from 'random' to 'pca' in 1.2.\n",
            "  FutureWarning,\n",
            "/usr/local/lib/python3.7/dist-packages/sklearn/manifold/_t_sne.py:793: FutureWarning: The default learning rate in TSNE will change from 200.0 to 'auto' in 1.2.\n",
            "  FutureWarning,\n"
          ]
        },
        {
          "data": {
            "image/png": "[encoded data removed]",
            "text/plain": [
              "<Figure size 720x720 with 1 Axes>"
            ]
          },
          "metadata": {},
          "output_type": "display_data"
        },
        {
          "data": {
            "text/plain": [
              "<Figure size 432x288 with 0 Axes>"
            ]
          },
          "metadata": {},
          "output_type": "display_data"
        }
      ],
      "source": [
        "twodproj = TSNE(n_components=2).fit_transform(data_analysis[cols])\n",
        "\n",
        "plt.figure(figsize  = (10,10))\n",
        "\n",
        "patient_phenotypes = data_analysis['type']\n",
        "unique_labels = data_analysis['type'].unique()\n",
        "\n",
        "for i in unique_labels:\n",
        "    plt.scatter(twodproj[patient_phenotypes == i, 0], twodproj[patient_phenotypes == i, 1], label=i)\n",
        "plt.title('t-SNE dimensionality reduction')\n",
        "plt.legend()\n",
        "plt.show()\n",
        "\n",
        "# Don't forget to save your plot, especially when you work on Euler\n",
        "plt.savefig(output_path + 'tSNE_plot.png')"
      ],
      "id": "b147951d"
    },
    {
      "cell_type": "markdown",
      "metadata": {
        "id": "d2298a3b"
      },
      "source": [
        "## Class prediction"
      ],
      "id": "d2298a3b"
    },
    {
      "cell_type": "code",
      "execution_count": null,
      "metadata": {
        "id": "7f238d7d"
      },
      "outputs": [],
      "source": [
        "t0_gene = time.time()\n",
        "\n",
        "# X is a dataframe with all the features/variables that we want to use for the classification\n",
        "X = data_analysis[cols]\n",
        "# y is a list containing the label to classify\n",
        "y = data_analysis['type'].tolist()\n",
        "\n",
        "'''\n",
        "We first need to split out data into training and testing sets\n",
        "We will fit the model on the training set and test it on the testing set\n",
        "Note: we stratify the splitting according to the labels \n",
        "such that both the train and testing sets have a similar distribution\n",
        "'''\n",
        "\n",
        "X_train, X_test, y_train, y_test = train_test_split(X, y, test_size = 0.2, random_state = 2022, stratify = y)"
      ],
      "id": "7f238d7d"
    },
    {
      "cell_type": "code",
      "execution_count": null,
      "metadata": {
        "id": "eb5dd7b5"
      },
      "outputs": [],
      "source": [
        "# Specify the model to use and the hyperparameters\n",
        "rf = ensemble.RandomForestClassifier(max_depth = 25, \n",
        "                                      criterion = \"gini\", \n",
        "                                      random_state = 2022)\n",
        "# Fit the train data\n",
        "rf = rf.fit(X_train, y_train)"
      ],
      "id": "eb5dd7b5"
    },
    {
      "cell_type": "code",
      "execution_count": null,
      "metadata": {
        "id": "9e3d34b6"
      },
      "outputs": [],
      "source": [
        "# Predict the labels in the test set based on the model learnt on the train set\n",
        "y_pred = rf.predict(X_test)"
      ],
      "id": "9e3d34b6"
    },
    {
      "cell_type": "code",
      "execution_count": null,
      "metadata": {
        "colab": {
          "base_uri": "https://localhost:8080/"
        },
        "id": "20e17e12",
        "outputId": "bf5077fd-882f-45dc-c09d-817ee7553805"
      },
      "outputs": [
        {
          "data": {
            "text/plain": [
              "array([[9, 0, 0, 0, 0],\n",
              "       [1, 6, 0, 0, 0],\n",
              "       [0, 0, 4, 0, 0],\n",
              "       [0, 0, 0, 3, 0],\n",
              "       [0, 2, 0, 0, 1]])"
            ]
          },
          "execution_count": 30,
          "metadata": {},
          "output_type": "execute_result"
        }
      ],
      "source": [
        "confusion_matrix(y_test, y_pred)"
      ],
      "id": "20e17e12"
    },
    {
      "cell_type": "code",
      "execution_count": null,
      "metadata": {
        "colab": {
          "base_uri": "https://localhost:8080/",
          "height": 485
        },
        "id": "df6fcf93",
        "outputId": "a3dba16f-698b-4dc1-82d0-5519729126ad"
      },
      "outputs": [
        {
          "name": "stderr",
          "output_type": "stream",
          "text": [
            "/usr/local/lib/python3.7/dist-packages/sklearn/utils/deprecation.py:87: FutureWarning: Function plot_confusion_matrix is deprecated; Function `plot_confusion_matrix` is deprecated in 1.0 and will be removed in 1.2. Use one of the class methods: ConfusionMatrixDisplay.from_predictions or ConfusionMatrixDisplay.from_estimator.\n",
            "  warnings.warn(msg, category=FutureWarning)\n"
          ]
        },
        {
          "data": {
            "text/plain": [
              "<Figure size 720x720 with 0 Axes>"
            ]
          },
          "metadata": {},
          "output_type": "display_data"
        },
        {
          "data": {
            "image/png": "[encoded data removed]",
            "text/plain": [
              "<Figure size 432x288 with 2 Axes>"
            ]
          },
          "metadata": {},
          "output_type": "display_data"
        },
        {
          "data": {
            "text/plain": [
              "<Figure size 432x288 with 0 Axes>"
            ]
          },
          "metadata": {},
          "output_type": "display_data"
        }
      ],
      "source": [
        "# Visualise the prediction results in a confusion matrix\n",
        "\n",
        "plt.figure(figsize = (10,10))\n",
        "plot_confusion_matrix(rf, X_test, y_test, cmap = plt.cm.Blues)\n",
        "plt.title('Confusion matrix')\n",
        "plt.xticks(rotation=90)\n",
        "plt.show()\n",
        "\n",
        "# Don't forget to save your plot, especially when you work on Euler\n",
        "plt.savefig(output_path + 'confusion_plot.png')"
      ],
      "id": "df6fcf93"
    },
    {
      "cell_type": "code",
      "execution_count": null,
      "metadata": {
        "colab": {
          "base_uri": "https://localhost:8080/"
        },
        "id": "8586e918",
        "outputId": "81be56c5-0b7f-4288-c84f-14b8c26e61f9"
      },
      "outputs": [
        {
          "name": "stdout",
          "output_type": "stream",
          "text": [
            "It took 0.764 seconds to run the prediction using the gene expression data.\n"
          ]
        }
      ],
      "source": [
        "t1_gene = time.time()\n",
        "\n",
        "total_gene = t1_gene - t0_gene\n",
        "print('It took', round(total_gene, 3), 'seconds to run the prediction using the gene expression data.')"
      ],
      "id": "8586e918"
    },
    {
      "cell_type": "code",
      "execution_count": null,
      "metadata": {
        "colab": {
          "base_uri": "https://localhost:8080/"
        },
        "id": "f3979932",
        "outputId": "a26be5d4-758d-4312-a015-a8aa89584bb7"
      },
      "outputs": [
        {
          "name": "stdout",
          "output_type": "stream",
          "text": [
            "                       precision    recall  f1-score   support\n",
            "\n",
            "           ependymoma       0.90      1.00      0.95         9\n",
            "         glioblastoma       0.75      0.86      0.80         7\n",
            "      medulloblastoma       1.00      1.00      1.00         4\n",
            "               normal       1.00      1.00      1.00         3\n",
            "pilocytic_astrocytoma       1.00      0.33      0.50         3\n",
            "\n",
            "             accuracy                           0.88        26\n",
            "            macro avg       0.93      0.84      0.85        26\n",
            "         weighted avg       0.90      0.88      0.87        26\n",
            "\n"
          ]
        }
      ],
      "source": [
        "# Output the classification report including multiple metrics\n",
        "\n",
        "report = classification_report(y_test, y_pred, output_dict = True)\n",
        "print(classification_report(y_test, y_pred))\n",
        "\n",
        "# You can also save this report as a .csv file\n",
        "report_dataframe = pd.DataFrame.from_dict(report)\n",
        "report_dataframe.to_csv(output_path + 'class-prediction_report.csv')"
      ],
      "id": "f3979932"
    },
    {
      "cell_type": "markdown",
      "metadata": {
        "id": "HazJzdMbMr0B"
      },
      "source": [
        "### Class prediction including GridSearchCV\n",
        "\n",
        "For more information about the implementation of grid search cross validation in python, you can refer to the corresponding sklearn page: [GridSearchCV](https://scikit-learn.org/stable/modules/generated/sklearn.model_selection.GridSearchCV.html)"
      ],
      "id": "HazJzdMbMr0B"
    },
    {
      "cell_type": "code",
      "execution_count": null,
      "metadata": {
        "colab": {
          "base_uri": "https://localhost:8080/"
        },
        "id": "5OF_DmwNMq7d",
        "outputId": "7e3607f1-dfc0-4b7d-db32-5a849c45cf63"
      },
      "outputs": [
        {
          "name": "stdout",
          "output_type": "stream",
          "text": [
            "{'min_samples_split': [2, 3, 4], 'criterion': ['gini', 'entropy'], 'max_depth': [5, 10, 25, 50, None]}\n"
          ]
        }
      ],
      "source": [
        "t0_gene_CV = time.time()\n",
        "\n",
        "# Declare the model to use, without specifying parameters (except from the seed here)\n",
        "rf = ensemble.RandomForestClassifier(random_state = 2022)\n",
        "\n",
        "# Decide the hyperparameters to be tested\n",
        "min_samples_split = [2, 3, 4]                                      \n",
        "max_depth = [5, 10, 25, 50, None]\n",
        "criterion = ['gini','entropy']\n",
        "\n",
        "# Combine all parameters in a dictionary\n",
        "parameters_rf = dict(min_samples_split = min_samples_split,\n",
        "                     criterion = criterion,\n",
        "                     max_depth = max_depth)\n",
        "print(parameters_rf)"
      ],
      "id": "5OF_DmwNMq7d"
    },
    {
      "cell_type": "code",
      "execution_count": null,
      "metadata": {
        "id": "4Xx1GyBJNMQ5"
      },
      "outputs": [],
      "source": [
        "# Train random forest model with combinations of all hyperparameters above using GridSearchCV\n",
        "# GridSearchCV will find the hyperparameters that will give you the best predictions in cross validation according to the scoring method chosen\n",
        "gridrf = GridSearchCV(rf, parameters_rf, cv = 10, scoring = 'accuracy')\n",
        "gridrf.fit(X_train, y_train)\n",
        "print(gridrf.best_params_)\n",
        "t1_gene_CV = time.time()"
      ],
      "id": "4Xx1GyBJNMQ5"
    },
    {
      "cell_type": "code",
      "execution_count": null,
      "metadata": {
        "colab": {
          "background_save": true
        },
        "id": "3o-2uerjPMNu",
        "outputId": "fa3777fd-1572-4cd4-b349-ed763f497d51"
      },
      "outputs": [
        {
          "name": "stderr",
          "output_type": "stream",
          "text": [
            "/usr/local/lib/python3.7/dist-packages/sklearn/utils/deprecation.py:87: FutureWarning: Function plot_confusion_matrix is deprecated; Function `plot_confusion_matrix` is deprecated in 1.0 and will be removed in 1.2. Use one of the class methods: ConfusionMatrixDisplay.from_predictions or ConfusionMatrixDisplay.from_estimator.\n",
            "  warnings.warn(msg, category=FutureWarning)\n"
          ]
        },
        {
          "data": {
            "text/plain": [
              "<Figure size 720x720 with 0 Axes>"
            ]
          },
          "metadata": {},
          "output_type": "display_data"
        },
        {
          "data": {
            "image/png": "[encoded data removed]",
            "text/plain": [
              "<Figure size 432x288 with 2 Axes>"
            ]
          },
          "metadata": {},
          "output_type": "display_data"
        },
        {
          "data": {
            "text/plain": [
              "<Figure size 432x288 with 0 Axes>"
            ]
          },
          "metadata": {},
          "output_type": "display_data"
        }
      ],
      "source": [
        "# Predict the labels in the test set based on the model learnt on the train set\n",
        "y_pred_CV = gridrf.predict(X_test)\n",
        "\n",
        "# Visualise the prediction results in a confusion matrix\n",
        "\n",
        "plt.figure(figsize = (10,10))\n",
        "plot_confusion_matrix(gridrf, X_test, y_test, cmap = plt.cm.Blues)\n",
        "plt.title('Confusion matrix')\n",
        "plt.xticks(rotation = 90)\n",
        "plt.show()\n",
        "\n",
        "# Don't forget to save your plot, especially when you work on Euler\n",
        "plt.savefig(output_path + 'confusion_plot_CV.png')"
      ],
      "id": "3o-2uerjPMNu"
    },
    {
      "cell_type": "code",
      "execution_count": null,
      "metadata": {
        "colab": {
          "background_save": true
        },
        "id": "0v69sRSiOLx7",
        "outputId": "51d5f9a8-7609-4e8a-ab21-178ca616af52"
      },
      "outputs": [
        {
          "name": "stdout",
          "output_type": "stream",
          "text": [
            "It took 59.896 seconds to run the prediction using the gene expression data.\n"
          ]
        }
      ],
      "source": [
        "t1_gene_CV = time.time()\n",
        "\n",
        "total_gene_CV = t1_gene_CV - t0_gene_CV\n",
        "print('It took', round(total_gene_CV, 3), 'seconds to run the prediction using the gene expression data.')"
      ],
      "id": "0v69sRSiOLx7"
    },
    {
      "cell_type": "code",
      "execution_count": null,
      "metadata": {
        "colab": {
          "background_save": true
        },
        "id": "2eQCq0UUO-i2",
        "outputId": "7e02a633-a0d4-46a3-e43f-800a56db3b39"
      },
      "outputs": [
        {
          "name": "stdout",
          "output_type": "stream",
          "text": [
            "                       precision    recall  f1-score   support\n",
            "\n",
            "           ependymoma       0.90      1.00      0.95         9\n",
            "         glioblastoma       0.75      0.86      0.80         7\n",
            "      medulloblastoma       1.00      1.00      1.00         4\n",
            "               normal       1.00      1.00      1.00         3\n",
            "pilocytic_astrocytoma       1.00      0.33      0.50         3\n",
            "\n",
            "             accuracy                           0.88        26\n",
            "            macro avg       0.93      0.84      0.85        26\n",
            "         weighted avg       0.90      0.88      0.87        26\n",
            "\n"
          ]
        }
      ],
      "source": [
        "# Output the classification report including multiple metrics\n",
        "\n",
        "report_CV = classification_report(y_test, y_pred_CV, output_dict = True)\n",
        "print(classification_report(y_test, y_pred_CV))\n",
        "\n",
        "# You can also save this report as a .csv file\n",
        "report_dataframe_CV = pd.DataFrame.from_dict(report_CV)\n",
        "report_dataframe_CV.to_csv(output_path + 'class-prediction-CV_report.csv')"
      ],
      "id": "2eQCq0UUO-i2"
    },
    {
      "cell_type": "markdown",
      "metadata": {
        "id": "e1720f9b"
      },
      "source": [
        "## Exercises\n",
        "\n",
        "It is now your turn to play around with this dataset, first using a subset and then the entire set of data on Euler.\n",
        "\n",
        "### Part a\n",
        "\n",
        "Run a principal component (PC) analysis (PCA).\n",
        " - Visualise the different types of tumor according to the first 2 PCs.\n",
        " - Do the group separate well? \n",
        " - How much of the variance is explained from those 2 PCs? (Hint: have a look at the output in [the PCA scikit-learn documentation](https://scikit-learn.org/stable/modules/generated/sklearn.decomposition.PCA.html))\n",
        " - How many components would you need to consider in order to capture 50% of the variance?\n",
        " \n",
        "### Part b\n",
        "\n",
        "We classified the different tumour types based on gene expression. This time, perform a similar classification but using the PCs instead of gene expression directly (choose the number of PCs that explain 50% of the variance). Don't forget that the data should be split in train and test sets, even to perform PCA. How is the model performing when using PCs compared to gene expression? How long does it take compared to the classification with the gene expression?"
      ],
      "id": "e1720f9b"
    },
    {
      "cell_type": "markdown",
      "metadata": {
        "id": "dababb90"
      },
      "source": [
        "### Part a"
      ],
      "id": "dababb90"
    },
    {
      "cell_type": "code",
      "execution_count": null,
      "metadata": {
        "colab": {
          "background_save": true
        },
        "id": "7eb52b87"
      },
      "outputs": [],
      "source": [
        "# Define the model, fit and transform the data\n",
        "pca = PCA(n_components = 20) # You can play around with the number of PCs\n",
        "pca.fit(X_train)\n",
        "transformed = pca.transform(X_train)"
      ],
      "id": "7eb52b87"
    },
    {
      "cell_type": "code",
      "execution_count": null,
      "metadata": {
        "colab": {
          "background_save": true
        },
        "id": "b9a6fecd",
        "outputId": "0d6e0ba1-bad4-4964-aae8-4ffed9dd652d"
      },
      "outputs": [
        {
          "data": {
            "text/plain": [
              "Text(0.5, 1.0, 'Dimensionality reduction - First 2 PCs')"
            ]
          },
          "execution_count": 40,
          "metadata": {},
          "output_type": "execute_result"
        },
        {
          "data": {
            "image/png": "[encoded data removed]",
            "text/plain": [
              "<Figure size 432x288 with 1 Axes>"
            ]
          },
          "metadata": {},
          "output_type": "display_data"
        }
      ],
      "source": [
        "# Plot the different samples as a scatter plot according to the first 2 PCs \n",
        "sns.scatterplot(x = transformed[:,0], y = transformed[:,1], hue = y_train);\n",
        "plt.xlabel('PC1')\n",
        "plt.ylabel('PC2')\n",
        "plt.legend(loc = 'center left', bbox_to_anchor = (1, 0.5), title = 'Phenotypes')\n",
        "plt.title('Dimensionality reduction - First 2 PCs')"
      ],
      "id": "b9a6fecd"
    },
    {
      "cell_type": "code",
      "execution_count": null,
      "metadata": {
        "colab": {
          "background_save": true
        },
        "id": "be60f8ce",
        "outputId": "dc1b831e-813c-46e8-9cb1-d445dbc68df7"
      },
      "outputs": [
        {
          "data": {
            "text/plain": [
              "array([20.16432835,  9.82520462,  8.19553512,  7.08175736,  4.42971378,\n",
              "        3.56363973,  3.36817176,  2.92317592,  2.63916454,  2.36732335,\n",
              "        2.1904453 ,  2.01684397,  1.8402452 ,  1.54854674,  1.47549362,\n",
              "        1.46335878,  1.24908389,  1.23583681,  1.20031876,  1.07631946])"
            ]
          },
          "execution_count": 41,
          "metadata": {},
          "output_type": "execute_result"
        }
      ],
      "source": [
        "# Output the explained variance from each computed PC\n",
        "pca.explained_variance_"
      ],
      "id": "be60f8ce"
    },
    {
      "cell_type": "code",
      "execution_count": null,
      "metadata": {
        "colab": {
          "background_save": true
        },
        "id": "162ba233",
        "outputId": "52db38ff-618c-4e00-94fc-1691a0c31d3f"
      },
      "outputs": [
        {
          "data": {
            "text/plain": [
              "Text(0.5, 1.0, 'Variance explained per PC')"
            ]
          },
          "execution_count": 42,
          "metadata": {},
          "output_type": "execute_result"
        },
        {
          "data": {
            "image/png": "[encoded data removed]",
            "text/plain": [
              "<Figure size 432x288 with 1 Axes>"
            ]
          },
          "metadata": {},
          "output_type": "display_data"
        }
      ],
      "source": [
        "# Bar plot of explained_variance\n",
        "plt.bar(range(1, len(pca.explained_variance_) + 1), pca.explained_variance_)\n",
        "plt.xlabel('Principal components')\n",
        "plt.ylabel('Percentage of variance explained')\n",
        "plt.title('Variance explained per PC')"
      ],
      "id": "162ba233"
    },
    {
      "cell_type": "code",
      "execution_count": null,
      "metadata": {
        "colab": {
          "background_save": true
        },
        "id": "aaad1318",
        "outputId": "e95416b2-ec65-481f-ffda-f33a4a69b62a"
      },
      "outputs": [
        {
          "name": "stdout",
          "output_type": "stream",
          "text": [
            "The first 6 PCs explain more than 50% of the variance present in the data.\n"
          ]
        }
      ],
      "source": [
        "total_variance_explained = 0\n",
        "i = 0\n",
        "\n",
        "while total_variance_explained < 50:\n",
        "    total_variance_explained += pca.explained_variance_[i]\n",
        "    i += 1\n",
        "    \n",
        "print('The first', i, 'PCs explain more than 50% of the variance present in the data.')"
      ],
      "id": "aaad1318"
    },
    {
      "cell_type": "markdown",
      "metadata": {
        "id": "15f53354"
      },
      "source": [
        "### Part b"
      ],
      "id": "15f53354"
    },
    {
      "cell_type": "code",
      "execution_count": null,
      "metadata": {
        "colab": {
          "background_save": true
        },
        "id": "c8d6ab85",
        "outputId": "f51905c9-c9e7-43ab-c3c6-8d8a163bf106"
      },
      "outputs": [
        {
          "name": "stderr",
          "output_type": "stream",
          "text": [
            "/usr/local/lib/python3.7/dist-packages/sklearn/utils/deprecation.py:87: FutureWarning: Function plot_confusion_matrix is deprecated; Function `plot_confusion_matrix` is deprecated in 1.0 and will be removed in 1.2. Use one of the class methods: ConfusionMatrixDisplay.from_predictions or ConfusionMatrixDisplay.from_estimator.\n",
            "  warnings.warn(msg, category=FutureWarning)\n"
          ]
        },
        {
          "data": {
            "text/plain": [
              "<Figure size 720x720 with 0 Axes>"
            ]
          },
          "metadata": {},
          "output_type": "display_data"
        },
        {
          "data": {
            "image/png": "[encoded data removed]",
            "text/plain": [
              "<Figure size 432x288 with 2 Axes>"
            ]
          },
          "metadata": {},
          "output_type": "display_data"
        },
        {
          "name": "stdout",
          "output_type": "stream",
          "text": [
            "                       precision    recall  f1-score   support\n",
            "\n",
            "           ependymoma       0.90      1.00      0.95         9\n",
            "         glioblastoma       0.71      0.71      0.71         7\n",
            "      medulloblastoma       1.00      1.00      1.00         4\n",
            "               normal       1.00      1.00      1.00         3\n",
            "pilocytic_astrocytoma       0.50      0.33      0.40         3\n",
            "\n",
            "             accuracy                           0.85        26\n",
            "            macro avg       0.82      0.81      0.81        26\n",
            "         weighted avg       0.83      0.85      0.84        26\n",
            "\n",
            "It took 0.805 seconds to run the prediction using PCs.\n"
          ]
        },
        {
          "data": {
            "text/plain": [
              "<Figure size 432x288 with 0 Axes>"
            ]
          },
          "metadata": {},
          "output_type": "display_data"
        }
      ],
      "source": [
        "t0_pca = time.time()\n",
        "\n",
        "pca = PCA(n_components = i) # You can play around with the number of PCs\n",
        "pca.fit(X_train)\n",
        "X_train_transformed = pca.transform(X_train)\n",
        "X_test_transformed = pca.transform(X_test)\n",
        "\n",
        "rf = ensemble.RandomForestClassifier(max_depth = 25, \n",
        "                                      criterion = \"gini\", \n",
        "                                      random_state = 2022).fit(X_train_transformed, y_train)\n",
        "y_pred_pca = rf.predict(X_test_transformed)\n",
        "\n",
        "plt.figure(figsize  = (10,10))\n",
        "plot_confusion_matrix(rf, X_test_transformed, y_test, cmap = plt.cm.Blues)\n",
        "plt.title('Confusion matrix')\n",
        "plt.xticks(rotation=90)\n",
        "plt.show()\n",
        "\n",
        "# Don't forget to save your plot, especially when you work on Euler\n",
        "plt.savefig(output_path + 'confusion_plot_PC.png')\n",
        "\n",
        "report = classification_report(y_test, y_pred_pca, output_dict = True)\n",
        "print(classification_report(y_test, y_pred_pca))\n",
        "\n",
        "t1_pca = time.time()\n",
        "\n",
        "total_pca = t1_pca-t0_pca\n",
        "print('It took', round(total_pca, 3), 'seconds to run the prediction using PCs.')"
      ],
      "id": "c8d6ab85"
    },
    {
      "cell_type": "code",
      "execution_count": null,
      "metadata": {
        "colab": {
          "background_save": true
        },
        "id": "a71b1bcc",
        "outputId": "faa2b487-7899-4a7b-f206-5d0f9b027d78"
      },
      "outputs": [
        {
          "name": "stdout",
          "output_type": "stream",
          "text": [
            "It takes less time to run the model using the gene expression data compared to run the model after applying dimensionality reduction.\n"
          ]
        }
      ],
      "source": [
        "if total_gene > total_pca:\n",
        "    print('It takes longer to run the model using the gene expression data compared to run the model after applying dimensionality reduction.')\n",
        "elif total_gene < total_pca:\n",
        "    print('It takes less time to run the model using the gene expression data compared to run the model after applying dimensionality reduction.')\n",
        "elif total_gene == total_pca:\n",
        "    print('It takes the same time to run the model using the gene expression data compared to run the model after applying dimensionality reduction.')\n",
        "else:\n",
        "    print('Problem detected')"
      ],
      "id": "a71b1bcc"
    }
  ],
  "metadata": {
    "colab": {
      "provenance": [],
      "toc_visible": true,
      "include_colab_link": true
    },
    "kernelspec": {
      "display_name": "Python 3 (ipykernel)",
      "language": "python",
      "name": "python3"
    },
    "language_info": {
      "codemirror_mode": {
        "name": "ipython",
        "version": 3
      },
      "file_extension": ".py",
      "mimetype": "text/x-python",
      "name": "python",
      "nbconvert_exporter": "python",
      "pygments_lexer": "ipython3",
      "version": "3.9.12"
    }
  },
  "nbformat": 4,
  "nbformat_minor": 5
}